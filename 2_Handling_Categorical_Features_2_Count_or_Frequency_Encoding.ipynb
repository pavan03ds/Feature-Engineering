{
  "cells": [
    {
      "cell_type": "markdown",
      "metadata": {
        "id": "view-in-github",
        "colab_type": "text"
      },
      "source": [
        "<a href=\"https://colab.research.google.com/github/pavan03ds/Feature-Engineering/blob/main/2_Handling_Categorical_Features_2_Count_or_Frequency_Encoding.ipynb\" target=\"_parent\"><img src=\"https://colab.research.google.com/assets/colab-badge.svg\" alt=\"Open In Colab\"/></a>"
      ]
    },
    {
      "cell_type": "markdown",
      "id": "f30a82de",
      "metadata": {
        "id": "f30a82de"
      },
      "source": [
        "# Count or Frequency Encoding"
      ]
    },
    {
      "cell_type": "code",
      "execution_count": null,
      "id": "a47d08a2",
      "metadata": {
        "id": "a47d08a2"
      },
      "outputs": [],
      "source": [
        "import numpy as np\n",
        "import pandas as pd"
      ]
    },
    {
      "cell_type": "code",
      "execution_count": null,
      "id": "e96c8d70",
      "metadata": {
        "id": "e96c8d70"
      },
      "outputs": [],
      "source": [
        "data = pd.read_csv(\"D:\\DataSets\\mercedesbenz.csv\",usecols=['X1','X2'])"
      ]
    },
    {
      "cell_type": "code",
      "execution_count": null,
      "id": "4e64017f",
      "metadata": {
        "id": "4e64017f",
        "outputId": "202faa39-98b3-4f36-83f7-778ad46fa0cc"
      },
      "outputs": [
        {
          "data": {
            "text/html": [
              "<div>\n",
              "<style scoped>\n",
              "    .dataframe tbody tr th:only-of-type {\n",
              "        vertical-align: middle;\n",
              "    }\n",
              "\n",
              "    .dataframe tbody tr th {\n",
              "        vertical-align: top;\n",
              "    }\n",
              "\n",
              "    .dataframe thead th {\n",
              "        text-align: right;\n",
              "    }\n",
              "</style>\n",
              "<table border=\"1\" class=\"dataframe\">\n",
              "  <thead>\n",
              "    <tr style=\"text-align: right;\">\n",
              "      <th></th>\n",
              "      <th>X1</th>\n",
              "      <th>X2</th>\n",
              "    </tr>\n",
              "  </thead>\n",
              "  <tbody>\n",
              "    <tr>\n",
              "      <th>0</th>\n",
              "      <td>v</td>\n",
              "      <td>at</td>\n",
              "    </tr>\n",
              "    <tr>\n",
              "      <th>1</th>\n",
              "      <td>t</td>\n",
              "      <td>av</td>\n",
              "    </tr>\n",
              "    <tr>\n",
              "      <th>2</th>\n",
              "      <td>w</td>\n",
              "      <td>n</td>\n",
              "    </tr>\n",
              "    <tr>\n",
              "      <th>3</th>\n",
              "      <td>t</td>\n",
              "      <td>n</td>\n",
              "    </tr>\n",
              "    <tr>\n",
              "      <th>4</th>\n",
              "      <td>v</td>\n",
              "      <td>n</td>\n",
              "    </tr>\n",
              "  </tbody>\n",
              "</table>\n",
              "</div>"
            ],
            "text/plain": [
              "  X1  X2\n",
              "0  v  at\n",
              "1  t  av\n",
              "2  w   n\n",
              "3  t   n\n",
              "4  v   n"
            ]
          },
          "execution_count": 3,
          "metadata": {},
          "output_type": "execute_result"
        }
      ],
      "source": [
        "data.head()"
      ]
    },
    {
      "cell_type": "code",
      "execution_count": null,
      "id": "248cd9be",
      "metadata": {
        "id": "248cd9be",
        "outputId": "49c1a67c-c617-45ed-f5e8-d3ff9a7c1f0a"
      },
      "outputs": [
        {
          "name": "stdout",
          "output_type": "stream",
          "text": [
            "<class 'pandas.core.frame.DataFrame'>\n",
            "RangeIndex: 4209 entries, 0 to 4208\n",
            "Data columns (total 2 columns):\n",
            " #   Column  Non-Null Count  Dtype \n",
            "---  ------  --------------  ----- \n",
            " 0   X1      4209 non-null   object\n",
            " 1   X2      4209 non-null   object\n",
            "dtypes: object(2)\n",
            "memory usage: 65.9+ KB\n"
          ]
        }
      ],
      "source": [
        "data.info()"
      ]
    },
    {
      "cell_type": "code",
      "execution_count": null,
      "id": "1925d83a",
      "metadata": {
        "id": "1925d83a",
        "outputId": "771025e5-6998-49b3-aeb4-12303458e260"
      },
      "outputs": [
        {
          "data": {
            "text/plain": [
              "(4209, 2)"
            ]
          },
          "execution_count": 5,
          "metadata": {},
          "output_type": "execute_result"
        }
      ],
      "source": [
        "data.shape"
      ]
    },
    {
      "cell_type": "markdown",
      "id": "636dff2e",
      "metadata": {
        "id": "636dff2e"
      },
      "source": [
        " let's to one hot coding and see what happens"
      ]
    },
    {
      "cell_type": "code",
      "execution_count": null,
      "id": "94aa04c1",
      "metadata": {
        "id": "94aa04c1",
        "outputId": "223a673c-0f64-42b4-fa93-5c4f086c4644"
      },
      "outputs": [
        {
          "data": {
            "text/plain": [
              "(4209, 71)"
            ]
          },
          "execution_count": 6,
          "metadata": {},
          "output_type": "execute_result"
        }
      ],
      "source": [
        "pd.get_dummies(data).shape  # we can see 69 columns are added -- too many"
      ]
    },
    {
      "cell_type": "code",
      "execution_count": null,
      "id": "82c23932",
      "metadata": {
        "id": "82c23932",
        "outputId": "e6e7a300-95a1-4a5f-d981-9f5747e0a483"
      },
      "outputs": [
        {
          "data": {
            "text/plain": [
              "27"
            ]
          },
          "execution_count": 7,
          "metadata": {},
          "output_type": "execute_result"
        }
      ],
      "source": [
        "len(data['X1'].unique())"
      ]
    },
    {
      "cell_type": "code",
      "execution_count": null,
      "id": "25deb303",
      "metadata": {
        "id": "25deb303",
        "outputId": "536f4b61-5247-4b8a-ecc7-d578db2b6fc6"
      },
      "outputs": [
        {
          "data": {
            "text/plain": [
              "44"
            ]
          },
          "execution_count": 8,
          "metadata": {},
          "output_type": "execute_result"
        }
      ],
      "source": [
        "len(data['X2'].unique())"
      ]
    },
    {
      "cell_type": "code",
      "execution_count": null,
      "id": "32b9e3c8",
      "metadata": {
        "id": "32b9e3c8",
        "outputId": "8d979af5-afe0-43ec-94b4-d3d9b7c79aaf"
      },
      "outputs": [
        {
          "name": "stdout",
          "output_type": "stream",
          "text": [
            "X1 : 27\n",
            "X2 : 44\n"
          ]
        }
      ],
      "source": [
        "for col in data.columns:\n",
        "    print(col,':',len(data[col].unique()))"
      ]
    },
    {
      "cell_type": "code",
      "execution_count": null,
      "id": "581db846",
      "metadata": {
        "id": "581db846",
        "outputId": "3adef092-46d0-4f2b-d429-1bd26c04b08d"
      },
      "outputs": [
        {
          "data": {
            "text/plain": [
              "{'aa': 833,\n",
              " 's': 598,\n",
              " 'b': 592,\n",
              " 'l': 590,\n",
              " 'v': 408,\n",
              " 'r': 251,\n",
              " 'i': 203,\n",
              " 'a': 143,\n",
              " 'c': 121,\n",
              " 'o': 82,\n",
              " 'w': 52,\n",
              " 'z': 46,\n",
              " 'u': 37,\n",
              " 'e': 33,\n",
              " 'm': 32,\n",
              " 't': 31,\n",
              " 'h': 29,\n",
              " 'y': 23,\n",
              " 'f': 23,\n",
              " 'j': 22,\n",
              " 'n': 19,\n",
              " 'k': 17,\n",
              " 'p': 9,\n",
              " 'g': 6,\n",
              " 'd': 3,\n",
              " 'q': 3,\n",
              " 'ab': 3}"
            ]
          },
          "execution_count": 10,
          "metadata": {},
          "output_type": "execute_result"
        }
      ],
      "source": [
        "data.X1.value_counts().to_dict()   #obtaining count of each variable and storing to dict for remapping"
      ]
    },
    {
      "cell_type": "code",
      "execution_count": null,
      "id": "4876b738",
      "metadata": {
        "id": "4876b738"
      },
      "outputs": [],
      "source": [
        "data_X1_counts = data.X1.value_counts().to_dict()"
      ]
    },
    {
      "cell_type": "code",
      "execution_count": null,
      "id": "8ffd8708",
      "metadata": {
        "id": "8ffd8708"
      },
      "outputs": [],
      "source": [
        "data.X1 = data.X1.map(data_X1_counts)    #replacing lables with their count"
      ]
    },
    {
      "cell_type": "code",
      "execution_count": null,
      "id": "86dde904",
      "metadata": {
        "id": "86dde904",
        "outputId": "836e861d-f189-48c7-9118-0bf03fae354c"
      },
      "outputs": [
        {
          "data": {
            "text/html": [
              "<div>\n",
              "<style scoped>\n",
              "    .dataframe tbody tr th:only-of-type {\n",
              "        vertical-align: middle;\n",
              "    }\n",
              "\n",
              "    .dataframe tbody tr th {\n",
              "        vertical-align: top;\n",
              "    }\n",
              "\n",
              "    .dataframe thead th {\n",
              "        text-align: right;\n",
              "    }\n",
              "</style>\n",
              "<table border=\"1\" class=\"dataframe\">\n",
              "  <thead>\n",
              "    <tr style=\"text-align: right;\">\n",
              "      <th></th>\n",
              "      <th>X1</th>\n",
              "      <th>X2</th>\n",
              "    </tr>\n",
              "  </thead>\n",
              "  <tbody>\n",
              "    <tr>\n",
              "      <th>0</th>\n",
              "      <td>408</td>\n",
              "      <td>at</td>\n",
              "    </tr>\n",
              "    <tr>\n",
              "      <th>1</th>\n",
              "      <td>31</td>\n",
              "      <td>av</td>\n",
              "    </tr>\n",
              "    <tr>\n",
              "      <th>2</th>\n",
              "      <td>52</td>\n",
              "      <td>n</td>\n",
              "    </tr>\n",
              "    <tr>\n",
              "      <th>3</th>\n",
              "      <td>31</td>\n",
              "      <td>n</td>\n",
              "    </tr>\n",
              "    <tr>\n",
              "      <th>4</th>\n",
              "      <td>408</td>\n",
              "      <td>n</td>\n",
              "    </tr>\n",
              "  </tbody>\n",
              "</table>\n",
              "</div>"
            ],
            "text/plain": [
              "    X1  X2\n",
              "0  408  at\n",
              "1   31  av\n",
              "2   52   n\n",
              "3   31   n\n",
              "4  408   n"
            ]
          },
          "execution_count": 13,
          "metadata": {},
          "output_type": "execute_result"
        }
      ],
      "source": [
        "data.head()       # we can see the variables in X1 are replaced by their counts"
      ]
    },
    {
      "cell_type": "markdown",
      "id": "1fa8dc4d",
      "metadata": {
        "id": "1fa8dc4d"
      },
      "source": [
        " Let's do it for X2"
      ]
    },
    {
      "cell_type": "code",
      "execution_count": null,
      "id": "c82e7245",
      "metadata": {
        "id": "c82e7245",
        "outputId": "fbc8b400-d01a-404f-b377-792dda6739e0"
      },
      "outputs": [
        {
          "data": {
            "text/plain": [
              "{'as': 1659,\n",
              " 'ae': 496,\n",
              " 'ai': 415,\n",
              " 'm': 367,\n",
              " 'ak': 265,\n",
              " 'r': 153,\n",
              " 'n': 137,\n",
              " 's': 94,\n",
              " 'f': 87,\n",
              " 'e': 81,\n",
              " 'aq': 63,\n",
              " 'ay': 54,\n",
              " 'a': 47,\n",
              " 't': 29,\n",
              " 'k': 25,\n",
              " 'i': 25,\n",
              " 'b': 21,\n",
              " 'ao': 20,\n",
              " 'ag': 19,\n",
              " 'z': 19,\n",
              " 'd': 18,\n",
              " 'ac': 13,\n",
              " 'g': 12,\n",
              " 'ap': 11,\n",
              " 'y': 11,\n",
              " 'x': 10,\n",
              " 'aw': 8,\n",
              " 'at': 6,\n",
              " 'h': 6,\n",
              " 'al': 5,\n",
              " 'an': 5,\n",
              " 'q': 5,\n",
              " 'av': 4,\n",
              " 'ah': 4,\n",
              " 'p': 4,\n",
              " 'au': 3,\n",
              " 'am': 1,\n",
              " 'j': 1,\n",
              " 'af': 1,\n",
              " 'l': 1,\n",
              " 'aa': 1,\n",
              " 'c': 1,\n",
              " 'o': 1,\n",
              " 'ar': 1}"
            ]
          },
          "execution_count": 14,
          "metadata": {},
          "output_type": "execute_result"
        }
      ],
      "source": [
        "data.X2.value_counts().to_dict()"
      ]
    },
    {
      "cell_type": "code",
      "execution_count": null,
      "id": "20d60e91",
      "metadata": {
        "id": "20d60e91"
      },
      "outputs": [],
      "source": [
        "data_X2_counts = data.X2.value_counts().to_dict()"
      ]
    },
    {
      "cell_type": "code",
      "execution_count": null,
      "id": "87bff274",
      "metadata": {
        "id": "87bff274"
      },
      "outputs": [],
      "source": [
        "data.X2 = data.X2.map(data_X2_counts)   # replacing lables with their count"
      ]
    },
    {
      "cell_type": "code",
      "execution_count": null,
      "id": "60e7913a",
      "metadata": {
        "id": "60e7913a",
        "outputId": "12d38f3a-14bd-4d63-8840-d58cabc11025"
      },
      "outputs": [
        {
          "data": {
            "text/html": [
              "<div>\n",
              "<style scoped>\n",
              "    .dataframe tbody tr th:only-of-type {\n",
              "        vertical-align: middle;\n",
              "    }\n",
              "\n",
              "    .dataframe tbody tr th {\n",
              "        vertical-align: top;\n",
              "    }\n",
              "\n",
              "    .dataframe thead th {\n",
              "        text-align: right;\n",
              "    }\n",
              "</style>\n",
              "<table border=\"1\" class=\"dataframe\">\n",
              "  <thead>\n",
              "    <tr style=\"text-align: right;\">\n",
              "      <th></th>\n",
              "      <th>X1</th>\n",
              "      <th>X2</th>\n",
              "    </tr>\n",
              "  </thead>\n",
              "  <tbody>\n",
              "    <tr>\n",
              "      <th>0</th>\n",
              "      <td>408</td>\n",
              "      <td>6</td>\n",
              "    </tr>\n",
              "    <tr>\n",
              "      <th>1</th>\n",
              "      <td>31</td>\n",
              "      <td>4</td>\n",
              "    </tr>\n",
              "    <tr>\n",
              "      <th>2</th>\n",
              "      <td>52</td>\n",
              "      <td>137</td>\n",
              "    </tr>\n",
              "    <tr>\n",
              "      <th>3</th>\n",
              "      <td>31</td>\n",
              "      <td>137</td>\n",
              "    </tr>\n",
              "    <tr>\n",
              "      <th>4</th>\n",
              "      <td>408</td>\n",
              "      <td>137</td>\n",
              "    </tr>\n",
              "  </tbody>\n",
              "</table>\n",
              "</div>"
            ],
            "text/plain": [
              "    X1   X2\n",
              "0  408    6\n",
              "1   31    4\n",
              "2   52  137\n",
              "3   31  137\n",
              "4  408  137"
            ]
          },
          "execution_count": 17,
          "metadata": {},
          "output_type": "execute_result"
        }
      ],
      "source": [
        "data.head()"
      ]
    },
    {
      "cell_type": "code",
      "execution_count": null,
      "id": "1416be49",
      "metadata": {
        "id": "1416be49",
        "outputId": "a1b6a452-7906-4717-ea06-28e939addf62"
      },
      "outputs": [
        {
          "name": "stdout",
          "output_type": "stream",
          "text": [
            "<class 'pandas.core.frame.DataFrame'>\n",
            "RangeIndex: 4209 entries, 0 to 4208\n",
            "Data columns (total 2 columns):\n",
            " #   Column  Non-Null Count  Dtype\n",
            "---  ------  --------------  -----\n",
            " 0   X1      4209 non-null   int64\n",
            " 1   X2      4209 non-null   int64\n",
            "dtypes: int64(2)\n",
            "memory usage: 65.9 KB\n"
          ]
        }
      ],
      "source": [
        "data.info()"
      ]
    },
    {
      "cell_type": "code",
      "execution_count": null,
      "id": "ae4c5212",
      "metadata": {
        "id": "ae4c5212"
      },
      "outputs": [],
      "source": [
        ""
      ]
    }
  ],
  "metadata": {
    "kernelspec": {
      "display_name": "Python 3 (ipykernel)",
      "language": "python",
      "name": "python3"
    },
    "language_info": {
      "codemirror_mode": {
        "name": "ipython",
        "version": 3
      },
      "file_extension": ".py",
      "mimetype": "text/x-python",
      "name": "python",
      "nbconvert_exporter": "python",
      "pygments_lexer": "ipython3",
      "version": "3.9.12"
    },
    "colab": {
      "name": "2 Handling Categorical Features -2 Count or Frequency Encoding.ipynb",
      "provenance": [],
      "include_colab_link": true
    }
  },
  "nbformat": 4,
  "nbformat_minor": 5
}