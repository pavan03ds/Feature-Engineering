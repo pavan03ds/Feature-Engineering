{
  "cells": [
    {
      "cell_type": "markdown",
      "metadata": {
        "id": "view-in-github",
        "colab_type": "text"
      },
      "source": [
        "<a href=\"https://colab.research.google.com/github/pavan03ds/Feature-Engineering/blob/main/3_Handling_categorical_Features_3_Ordinal_numbering_encoding_(or)_Label_encoding_.ipynb\" target=\"_parent\"><img src=\"https://colab.research.google.com/assets/colab-badge.svg\" alt=\"Open In Colab\"/></a>"
      ]
    },
    {
      "cell_type": "markdown",
      "id": "403514d4",
      "metadata": {
        "id": "403514d4"
      },
      "source": [
        "# Ordinal numbering encoding (or) Label encoding "
      ]
    },
    {
      "cell_type": "code",
      "execution_count": null,
      "id": "3c49202b",
      "metadata": {
        "id": "3c49202b"
      },
      "outputs": [],
      "source": [
        "import pandas as pd\n",
        "import datetime"
      ]
    },
    {
      "cell_type": "markdown",
      "id": "0de1f2d7",
      "metadata": {
        "id": "0de1f2d7"
      },
      "source": [
        "creating a variable with dates and from that extracting the weekdays"
      ]
    },
    {
      "cell_type": "code",
      "execution_count": null,
      "id": "12e6835e",
      "metadata": {
        "id": "12e6835e"
      },
      "outputs": [],
      "source": [
        "df_base = datetime.datetime.today()"
      ]
    },
    {
      "cell_type": "markdown",
      "id": "9c096a38",
      "metadata": {
        "id": "9c096a38"
      },
      "source": [
        "list of dates with 20 days difference from today "
      ]
    },
    {
      "cell_type": "code",
      "execution_count": null,
      "id": "729d786e",
      "metadata": {
        "id": "729d786e"
      },
      "outputs": [],
      "source": [
        "df_date_list = [df_base - datetime.timedelta(days=x) for x in range(0,20)]"
      ]
    },
    {
      "cell_type": "code",
      "execution_count": null,
      "id": "f15ef000",
      "metadata": {
        "id": "f15ef000"
      },
      "outputs": [],
      "source": [
        "#creating a data frame using the above\n",
        "df = pd.DataFrame(df_date_list)\n",
        "df.columns = ['day']"
      ]
    },
    {
      "cell_type": "code",
      "execution_count": null,
      "id": "a4a07838",
      "metadata": {
        "id": "a4a07838",
        "outputId": "3d0219b3-fc85-4e93-bdec-4d692b50f6ec"
      },
      "outputs": [
        {
          "data": {
            "text/html": [
              "<div>\n",
              "<style scoped>\n",
              "    .dataframe tbody tr th:only-of-type {\n",
              "        vertical-align: middle;\n",
              "    }\n",
              "\n",
              "    .dataframe tbody tr th {\n",
              "        vertical-align: top;\n",
              "    }\n",
              "\n",
              "    .dataframe thead th {\n",
              "        text-align: right;\n",
              "    }\n",
              "</style>\n",
              "<table border=\"1\" class=\"dataframe\">\n",
              "  <thead>\n",
              "    <tr style=\"text-align: right;\">\n",
              "      <th></th>\n",
              "      <th>day</th>\n",
              "    </tr>\n",
              "  </thead>\n",
              "  <tbody>\n",
              "    <tr>\n",
              "      <th>0</th>\n",
              "      <td>2022-08-10 19:07:56.178919</td>\n",
              "    </tr>\n",
              "    <tr>\n",
              "      <th>1</th>\n",
              "      <td>2022-08-09 19:07:56.178919</td>\n",
              "    </tr>\n",
              "    <tr>\n",
              "      <th>2</th>\n",
              "      <td>2022-08-08 19:07:56.178919</td>\n",
              "    </tr>\n",
              "    <tr>\n",
              "      <th>3</th>\n",
              "      <td>2022-08-07 19:07:56.178919</td>\n",
              "    </tr>\n",
              "    <tr>\n",
              "      <th>4</th>\n",
              "      <td>2022-08-06 19:07:56.178919</td>\n",
              "    </tr>\n",
              "    <tr>\n",
              "      <th>5</th>\n",
              "      <td>2022-08-05 19:07:56.178919</td>\n",
              "    </tr>\n",
              "    <tr>\n",
              "      <th>6</th>\n",
              "      <td>2022-08-04 19:07:56.178919</td>\n",
              "    </tr>\n",
              "    <tr>\n",
              "      <th>7</th>\n",
              "      <td>2022-08-03 19:07:56.178919</td>\n",
              "    </tr>\n",
              "    <tr>\n",
              "      <th>8</th>\n",
              "      <td>2022-08-02 19:07:56.178919</td>\n",
              "    </tr>\n",
              "    <tr>\n",
              "      <th>9</th>\n",
              "      <td>2022-08-01 19:07:56.178919</td>\n",
              "    </tr>\n",
              "    <tr>\n",
              "      <th>10</th>\n",
              "      <td>2022-07-31 19:07:56.178919</td>\n",
              "    </tr>\n",
              "    <tr>\n",
              "      <th>11</th>\n",
              "      <td>2022-07-30 19:07:56.178919</td>\n",
              "    </tr>\n",
              "    <tr>\n",
              "      <th>12</th>\n",
              "      <td>2022-07-29 19:07:56.178919</td>\n",
              "    </tr>\n",
              "    <tr>\n",
              "      <th>13</th>\n",
              "      <td>2022-07-28 19:07:56.178919</td>\n",
              "    </tr>\n",
              "    <tr>\n",
              "      <th>14</th>\n",
              "      <td>2022-07-27 19:07:56.178919</td>\n",
              "    </tr>\n",
              "    <tr>\n",
              "      <th>15</th>\n",
              "      <td>2022-07-26 19:07:56.178919</td>\n",
              "    </tr>\n",
              "    <tr>\n",
              "      <th>16</th>\n",
              "      <td>2022-07-25 19:07:56.178919</td>\n",
              "    </tr>\n",
              "    <tr>\n",
              "      <th>17</th>\n",
              "      <td>2022-07-24 19:07:56.178919</td>\n",
              "    </tr>\n",
              "    <tr>\n",
              "      <th>18</th>\n",
              "      <td>2022-07-23 19:07:56.178919</td>\n",
              "    </tr>\n",
              "    <tr>\n",
              "      <th>19</th>\n",
              "      <td>2022-07-22 19:07:56.178919</td>\n",
              "    </tr>\n",
              "  </tbody>\n",
              "</table>\n",
              "</div>"
            ],
            "text/plain": [
              "                          day\n",
              "0  2022-08-10 19:07:56.178919\n",
              "1  2022-08-09 19:07:56.178919\n",
              "2  2022-08-08 19:07:56.178919\n",
              "3  2022-08-07 19:07:56.178919\n",
              "4  2022-08-06 19:07:56.178919\n",
              "5  2022-08-05 19:07:56.178919\n",
              "6  2022-08-04 19:07:56.178919\n",
              "7  2022-08-03 19:07:56.178919\n",
              "8  2022-08-02 19:07:56.178919\n",
              "9  2022-08-01 19:07:56.178919\n",
              "10 2022-07-31 19:07:56.178919\n",
              "11 2022-07-30 19:07:56.178919\n",
              "12 2022-07-29 19:07:56.178919\n",
              "13 2022-07-28 19:07:56.178919\n",
              "14 2022-07-27 19:07:56.178919\n",
              "15 2022-07-26 19:07:56.178919\n",
              "16 2022-07-25 19:07:56.178919\n",
              "17 2022-07-24 19:07:56.178919\n",
              "18 2022-07-23 19:07:56.178919\n",
              "19 2022-07-22 19:07:56.178919"
            ]
          },
          "execution_count": 16,
          "metadata": {},
          "output_type": "execute_result"
        }
      ],
      "source": [
        "df"
      ]
    },
    {
      "cell_type": "code",
      "execution_count": null,
      "id": "f02ad2e6",
      "metadata": {
        "id": "f02ad2e6"
      },
      "outputs": [],
      "source": [
        "#extract  the weekday names\n",
        "df['day_of_week'] = df['day'].dt.day_name()"
      ]
    },
    {
      "cell_type": "code",
      "execution_count": null,
      "id": "b7220caf",
      "metadata": {
        "id": "b7220caf",
        "outputId": "f36b6b79-3b23-4ad1-e246-f378bb263736"
      },
      "outputs": [
        {
          "data": {
            "text/html": [
              "<div>\n",
              "<style scoped>\n",
              "    .dataframe tbody tr th:only-of-type {\n",
              "        vertical-align: middle;\n",
              "    }\n",
              "\n",
              "    .dataframe tbody tr th {\n",
              "        vertical-align: top;\n",
              "    }\n",
              "\n",
              "    .dataframe thead th {\n",
              "        text-align: right;\n",
              "    }\n",
              "</style>\n",
              "<table border=\"1\" class=\"dataframe\">\n",
              "  <thead>\n",
              "    <tr style=\"text-align: right;\">\n",
              "      <th></th>\n",
              "      <th>day</th>\n",
              "      <th>day_of_week</th>\n",
              "    </tr>\n",
              "  </thead>\n",
              "  <tbody>\n",
              "    <tr>\n",
              "      <th>0</th>\n",
              "      <td>2022-08-10 19:07:56.178919</td>\n",
              "      <td>Wednesday</td>\n",
              "    </tr>\n",
              "    <tr>\n",
              "      <th>1</th>\n",
              "      <td>2022-08-09 19:07:56.178919</td>\n",
              "      <td>Tuesday</td>\n",
              "    </tr>\n",
              "    <tr>\n",
              "      <th>2</th>\n",
              "      <td>2022-08-08 19:07:56.178919</td>\n",
              "      <td>Monday</td>\n",
              "    </tr>\n",
              "    <tr>\n",
              "      <th>3</th>\n",
              "      <td>2022-08-07 19:07:56.178919</td>\n",
              "      <td>Sunday</td>\n",
              "    </tr>\n",
              "    <tr>\n",
              "      <th>4</th>\n",
              "      <td>2022-08-06 19:07:56.178919</td>\n",
              "      <td>Saturday</td>\n",
              "    </tr>\n",
              "  </tbody>\n",
              "</table>\n",
              "</div>"
            ],
            "text/plain": [
              "                         day day_of_week\n",
              "0 2022-08-10 19:07:56.178919   Wednesday\n",
              "1 2022-08-09 19:07:56.178919     Tuesday\n",
              "2 2022-08-08 19:07:56.178919      Monday\n",
              "3 2022-08-07 19:07:56.178919      Sunday\n",
              "4 2022-08-06 19:07:56.178919    Saturday"
            ]
          },
          "execution_count": 26,
          "metadata": {},
          "output_type": "execute_result"
        }
      ],
      "source": [
        "df.head()"
      ]
    },
    {
      "cell_type": "code",
      "execution_count": null,
      "id": "c6968272",
      "metadata": {
        "id": "c6968272"
      },
      "outputs": [],
      "source": [
        "# creating the weekday map dict"
      ]
    },
    {
      "cell_type": "code",
      "execution_count": null,
      "id": "399c0228",
      "metadata": {
        "id": "399c0228"
      },
      "outputs": [],
      "source": [
        "weekday_map = {\n",
        "    'Monday':1,\n",
        "    'Tuesday':2,\n",
        "    'Wednesday':3,\n",
        "    'Thursday':4,\n",
        "    'Friday':5,\n",
        "    'Saturday':6,\n",
        "    'Sunday':7\n",
        "}"
      ]
    },
    {
      "cell_type": "code",
      "execution_count": null,
      "id": "363b9cff",
      "metadata": {
        "id": "363b9cff"
      },
      "outputs": [],
      "source": [
        "df['day_ordinal'] = df.day_of_week.map(weekday_map)"
      ]
    },
    {
      "cell_type": "code",
      "execution_count": null,
      "id": "866bafde",
      "metadata": {
        "id": "866bafde",
        "outputId": "6e82843d-c4e6-4ac8-84d2-0ff06c8a2019"
      },
      "outputs": [
        {
          "data": {
            "text/html": [
              "<div>\n",
              "<style scoped>\n",
              "    .dataframe tbody tr th:only-of-type {\n",
              "        vertical-align: middle;\n",
              "    }\n",
              "\n",
              "    .dataframe tbody tr th {\n",
              "        vertical-align: top;\n",
              "    }\n",
              "\n",
              "    .dataframe thead th {\n",
              "        text-align: right;\n",
              "    }\n",
              "</style>\n",
              "<table border=\"1\" class=\"dataframe\">\n",
              "  <thead>\n",
              "    <tr style=\"text-align: right;\">\n",
              "      <th></th>\n",
              "      <th>day</th>\n",
              "      <th>day_of_week</th>\n",
              "      <th>day_ordinal</th>\n",
              "    </tr>\n",
              "  </thead>\n",
              "  <tbody>\n",
              "    <tr>\n",
              "      <th>0</th>\n",
              "      <td>2022-08-10 19:07:56.178919</td>\n",
              "      <td>Wednesday</td>\n",
              "      <td>3</td>\n",
              "    </tr>\n",
              "    <tr>\n",
              "      <th>1</th>\n",
              "      <td>2022-08-09 19:07:56.178919</td>\n",
              "      <td>Tuesday</td>\n",
              "      <td>2</td>\n",
              "    </tr>\n",
              "    <tr>\n",
              "      <th>2</th>\n",
              "      <td>2022-08-08 19:07:56.178919</td>\n",
              "      <td>Monday</td>\n",
              "      <td>1</td>\n",
              "    </tr>\n",
              "    <tr>\n",
              "      <th>3</th>\n",
              "      <td>2022-08-07 19:07:56.178919</td>\n",
              "      <td>Sunday</td>\n",
              "      <td>7</td>\n",
              "    </tr>\n",
              "    <tr>\n",
              "      <th>4</th>\n",
              "      <td>2022-08-06 19:07:56.178919</td>\n",
              "      <td>Saturday</td>\n",
              "      <td>6</td>\n",
              "    </tr>\n",
              "    <tr>\n",
              "      <th>5</th>\n",
              "      <td>2022-08-05 19:07:56.178919</td>\n",
              "      <td>Friday</td>\n",
              "      <td>5</td>\n",
              "    </tr>\n",
              "    <tr>\n",
              "      <th>6</th>\n",
              "      <td>2022-08-04 19:07:56.178919</td>\n",
              "      <td>Thursday</td>\n",
              "      <td>4</td>\n",
              "    </tr>\n",
              "    <tr>\n",
              "      <th>7</th>\n",
              "      <td>2022-08-03 19:07:56.178919</td>\n",
              "      <td>Wednesday</td>\n",
              "      <td>3</td>\n",
              "    </tr>\n",
              "    <tr>\n",
              "      <th>8</th>\n",
              "      <td>2022-08-02 19:07:56.178919</td>\n",
              "      <td>Tuesday</td>\n",
              "      <td>2</td>\n",
              "    </tr>\n",
              "    <tr>\n",
              "      <th>9</th>\n",
              "      <td>2022-08-01 19:07:56.178919</td>\n",
              "      <td>Monday</td>\n",
              "      <td>1</td>\n",
              "    </tr>\n",
              "    <tr>\n",
              "      <th>10</th>\n",
              "      <td>2022-07-31 19:07:56.178919</td>\n",
              "      <td>Sunday</td>\n",
              "      <td>7</td>\n",
              "    </tr>\n",
              "    <tr>\n",
              "      <th>11</th>\n",
              "      <td>2022-07-30 19:07:56.178919</td>\n",
              "      <td>Saturday</td>\n",
              "      <td>6</td>\n",
              "    </tr>\n",
              "    <tr>\n",
              "      <th>12</th>\n",
              "      <td>2022-07-29 19:07:56.178919</td>\n",
              "      <td>Friday</td>\n",
              "      <td>5</td>\n",
              "    </tr>\n",
              "    <tr>\n",
              "      <th>13</th>\n",
              "      <td>2022-07-28 19:07:56.178919</td>\n",
              "      <td>Thursday</td>\n",
              "      <td>4</td>\n",
              "    </tr>\n",
              "    <tr>\n",
              "      <th>14</th>\n",
              "      <td>2022-07-27 19:07:56.178919</td>\n",
              "      <td>Wednesday</td>\n",
              "      <td>3</td>\n",
              "    </tr>\n",
              "    <tr>\n",
              "      <th>15</th>\n",
              "      <td>2022-07-26 19:07:56.178919</td>\n",
              "      <td>Tuesday</td>\n",
              "      <td>2</td>\n",
              "    </tr>\n",
              "    <tr>\n",
              "      <th>16</th>\n",
              "      <td>2022-07-25 19:07:56.178919</td>\n",
              "      <td>Monday</td>\n",
              "      <td>1</td>\n",
              "    </tr>\n",
              "    <tr>\n",
              "      <th>17</th>\n",
              "      <td>2022-07-24 19:07:56.178919</td>\n",
              "      <td>Sunday</td>\n",
              "      <td>7</td>\n",
              "    </tr>\n",
              "    <tr>\n",
              "      <th>18</th>\n",
              "      <td>2022-07-23 19:07:56.178919</td>\n",
              "      <td>Saturday</td>\n",
              "      <td>6</td>\n",
              "    </tr>\n",
              "    <tr>\n",
              "      <th>19</th>\n",
              "      <td>2022-07-22 19:07:56.178919</td>\n",
              "      <td>Friday</td>\n",
              "      <td>5</td>\n",
              "    </tr>\n",
              "  </tbody>\n",
              "</table>\n",
              "</div>"
            ],
            "text/plain": [
              "                          day day_of_week  day_ordinal\n",
              "0  2022-08-10 19:07:56.178919   Wednesday            3\n",
              "1  2022-08-09 19:07:56.178919     Tuesday            2\n",
              "2  2022-08-08 19:07:56.178919      Monday            1\n",
              "3  2022-08-07 19:07:56.178919      Sunday            7\n",
              "4  2022-08-06 19:07:56.178919    Saturday            6\n",
              "5  2022-08-05 19:07:56.178919      Friday            5\n",
              "6  2022-08-04 19:07:56.178919    Thursday            4\n",
              "7  2022-08-03 19:07:56.178919   Wednesday            3\n",
              "8  2022-08-02 19:07:56.178919     Tuesday            2\n",
              "9  2022-08-01 19:07:56.178919      Monday            1\n",
              "10 2022-07-31 19:07:56.178919      Sunday            7\n",
              "11 2022-07-30 19:07:56.178919    Saturday            6\n",
              "12 2022-07-29 19:07:56.178919      Friday            5\n",
              "13 2022-07-28 19:07:56.178919    Thursday            4\n",
              "14 2022-07-27 19:07:56.178919   Wednesday            3\n",
              "15 2022-07-26 19:07:56.178919     Tuesday            2\n",
              "16 2022-07-25 19:07:56.178919      Monday            1\n",
              "17 2022-07-24 19:07:56.178919      Sunday            7\n",
              "18 2022-07-23 19:07:56.178919    Saturday            6\n",
              "19 2022-07-22 19:07:56.178919      Friday            5"
            ]
          },
          "execution_count": 35,
          "metadata": {},
          "output_type": "execute_result"
        }
      ],
      "source": [
        "df.head(20)"
      ]
    }
  ],
  "metadata": {
    "kernelspec": {
      "display_name": "Python 3 (ipykernel)",
      "language": "python",
      "name": "python3"
    },
    "language_info": {
      "codemirror_mode": {
        "name": "ipython",
        "version": 3
      },
      "file_extension": ".py",
      "mimetype": "text/x-python",
      "name": "python",
      "nbconvert_exporter": "python",
      "pygments_lexer": "ipython3",
      "version": "3.9.12"
    },
    "colab": {
      "name": "3 Handling categorical Features -3 Ordinal numbering encoding (or) Label encoding .ipynb",
      "provenance": [],
      "include_colab_link": true
    }
  },
  "nbformat": 4,
  "nbformat_minor": 5
}