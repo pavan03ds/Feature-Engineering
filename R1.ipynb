{
 "cells": [
  {
   "cell_type": "code",
   "execution_count": 1,
   "metadata": {
    "gather": {
     "logged": 1661611262645
    }
   },
   "outputs": [
    {
     "name": "stderr",
     "output_type": "stream",
     "text": [
      "── \u001b[1mAttaching packages\u001b[22m ─────────────────────────────────────── tidyverse 1.3.2 ──\n",
      "\u001b[32m✔\u001b[39m \u001b[34mggplot2\u001b[39m 3.3.6     \u001b[32m✔\u001b[39m \u001b[34mpurrr  \u001b[39m 0.3.4\n",
      "\u001b[32m✔\u001b[39m \u001b[34mtibble \u001b[39m 3.1.8     \u001b[32m✔\u001b[39m \u001b[34mdplyr  \u001b[39m 1.0.9\n",
      "\u001b[32m✔\u001b[39m \u001b[34mtidyr  \u001b[39m 1.2.0     \u001b[32m✔\u001b[39m \u001b[34mstringr\u001b[39m 1.4.0\n",
      "\u001b[32m✔\u001b[39m \u001b[34mreadr  \u001b[39m 2.1.2     \u001b[32m✔\u001b[39m \u001b[34mforcats\u001b[39m 0.5.1\n",
      "── \u001b[1mConflicts\u001b[22m ────────────────────────────────────────── tidyverse_conflicts() ──\n",
      "\u001b[31m✖\u001b[39m \u001b[34mdplyr\u001b[39m::\u001b[32mfilter()\u001b[39m masks \u001b[34mstats\u001b[39m::filter()\n",
      "\u001b[31m✖\u001b[39m \u001b[34mdplyr\u001b[39m::\u001b[32mlag()\u001b[39m    masks \u001b[34mstats\u001b[39m::lag()\n"
     ]
    }
   ],
   "source": [
    "library(tidyverse)"
   ]
  },
  {
   "cell_type": "code",
   "execution_count": 36,
   "metadata": {
    "gather": {
     "logged": 1661620170538
    },
    "jupyter": {
     "outputs_hidden": false,
     "source_hidden": false
    },
    "nteract": {
     "transient": {
      "deleting": false
     }
    }
   },
   "outputs": [],
   "source": [
    "df <- read.csv('https://raw.githubusercontent.com/MicrosoftDocs/mslearn-introduction-to-machine-learning/main/Data/ml-basics/diabetes.csv')"
   ]
  },
  {
   "cell_type": "code",
   "execution_count": 37,
   "metadata": {
    "gather": {
     "logged": 1661620173913
    },
    "jupyter": {
     "outputs_hidden": false,
     "source_hidden": false
    },
    "nteract": {
     "transient": {
      "deleting": false
     }
    }
   },
   "outputs": [
    {
     "data": {
      "text/html": [
       "<table class=\"dataframe\">\n",
       "<caption>A data.frame: 15 × 10</caption>\n",
       "<thead>\n",
       "\t<tr><th></th><th scope=col>PatientID</th><th scope=col>Pregnancies</th><th scope=col>PlasmaGlucose</th><th scope=col>DiastolicBloodPressure</th><th scope=col>TricepsThickness</th><th scope=col>SerumInsulin</th><th scope=col>BMI</th><th scope=col>DiabetesPedigree</th><th scope=col>Age</th><th scope=col>Diabetic</th></tr>\n",
       "\t<tr><th></th><th scope=col>&lt;int&gt;</th><th scope=col>&lt;int&gt;</th><th scope=col>&lt;int&gt;</th><th scope=col>&lt;int&gt;</th><th scope=col>&lt;int&gt;</th><th scope=col>&lt;int&gt;</th><th scope=col>&lt;dbl&gt;</th><th scope=col>&lt;dbl&gt;</th><th scope=col>&lt;int&gt;</th><th scope=col>&lt;int&gt;</th></tr>\n",
       "</thead>\n",
       "<tbody>\n",
       "\t<tr><th scope=row>1</th><td>1354778</td><td>0</td><td>171</td><td> 80</td><td>34</td><td> 23</td><td>43.50973</td><td>1.21319135</td><td>21</td><td>0</td></tr>\n",
       "\t<tr><th scope=row>2</th><td>1147438</td><td>8</td><td> 92</td><td> 93</td><td>47</td><td> 36</td><td>21.24058</td><td>0.15836498</td><td>23</td><td>0</td></tr>\n",
       "\t<tr><th scope=row>3</th><td>1640031</td><td>7</td><td>115</td><td> 47</td><td>52</td><td> 35</td><td>41.51152</td><td>0.07901857</td><td>23</td><td>0</td></tr>\n",
       "\t<tr><th scope=row>4</th><td>1883350</td><td>9</td><td>103</td><td> 78</td><td>25</td><td>304</td><td>29.58219</td><td>1.28286985</td><td>43</td><td>1</td></tr>\n",
       "\t<tr><th scope=row>5</th><td>1424119</td><td>1</td><td> 85</td><td> 59</td><td>27</td><td> 35</td><td>42.60454</td><td>0.54954187</td><td>22</td><td>0</td></tr>\n",
       "\t<tr><th scope=row>6</th><td>1619297</td><td>0</td><td> 82</td><td> 92</td><td> 9</td><td>253</td><td>19.72416</td><td>0.10342450</td><td>26</td><td>0</td></tr>\n",
       "\t<tr><th scope=row>7</th><td>1660149</td><td>0</td><td>133</td><td> 47</td><td>19</td><td>227</td><td>21.94136</td><td>0.17415978</td><td>21</td><td>0</td></tr>\n",
       "\t<tr><th scope=row>8</th><td>1458769</td><td>0</td><td> 67</td><td> 87</td><td>43</td><td> 36</td><td>18.27772</td><td>0.23616494</td><td>26</td><td>0</td></tr>\n",
       "\t<tr><th scope=row>9</th><td>1201647</td><td>8</td><td> 80</td><td> 95</td><td>33</td><td> 24</td><td>26.62493</td><td>0.44394739</td><td>53</td><td>1</td></tr>\n",
       "\t<tr><th scope=row>10</th><td>1403912</td><td>1</td><td> 72</td><td> 31</td><td>40</td><td> 42</td><td>36.88958</td><td>0.10394364</td><td>26</td><td>0</td></tr>\n",
       "\t<tr><th scope=row>11</th><td>1943830</td><td>1</td><td> 88</td><td> 86</td><td>11</td><td> 58</td><td>43.22504</td><td>0.23028462</td><td>22</td><td>0</td></tr>\n",
       "\t<tr><th scope=row>12</th><td>1824483</td><td>3</td><td> 94</td><td> 96</td><td>31</td><td> 36</td><td>21.29448</td><td>0.25902048</td><td>23</td><td>0</td></tr>\n",
       "\t<tr><th scope=row>13</th><td>1848869</td><td>5</td><td>114</td><td>101</td><td>43</td><td> 70</td><td>36.49532</td><td>0.07919016</td><td>38</td><td>1</td></tr>\n",
       "\t<tr><th scope=row>14</th><td>1669231</td><td>7</td><td>110</td><td> 82</td><td>16</td><td> 44</td><td>36.08929</td><td>0.28127616</td><td>25</td><td>0</td></tr>\n",
       "\t<tr><th scope=row>15</th><td>1683688</td><td>0</td><td>148</td><td> 58</td><td>11</td><td>179</td><td>39.19208</td><td>0.16082901</td><td>45</td><td>0</td></tr>\n",
       "</tbody>\n",
       "</table>\n"
      ],
      "text/latex": [
       "A data.frame: 15 × 10\n",
       "\\begin{tabular}{r|llllllllll}\n",
       "  & PatientID & Pregnancies & PlasmaGlucose & DiastolicBloodPressure & TricepsThickness & SerumInsulin & BMI & DiabetesPedigree & Age & Diabetic\\\\\n",
       "  & <int> & <int> & <int> & <int> & <int> & <int> & <dbl> & <dbl> & <int> & <int>\\\\\n",
       "\\hline\n",
       "\t1 & 1354778 & 0 & 171 &  80 & 34 &  23 & 43.50973 & 1.21319135 & 21 & 0\\\\\n",
       "\t2 & 1147438 & 8 &  92 &  93 & 47 &  36 & 21.24058 & 0.15836498 & 23 & 0\\\\\n",
       "\t3 & 1640031 & 7 & 115 &  47 & 52 &  35 & 41.51152 & 0.07901857 & 23 & 0\\\\\n",
       "\t4 & 1883350 & 9 & 103 &  78 & 25 & 304 & 29.58219 & 1.28286985 & 43 & 1\\\\\n",
       "\t5 & 1424119 & 1 &  85 &  59 & 27 &  35 & 42.60454 & 0.54954187 & 22 & 0\\\\\n",
       "\t6 & 1619297 & 0 &  82 &  92 &  9 & 253 & 19.72416 & 0.10342450 & 26 & 0\\\\\n",
       "\t7 & 1660149 & 0 & 133 &  47 & 19 & 227 & 21.94136 & 0.17415978 & 21 & 0\\\\\n",
       "\t8 & 1458769 & 0 &  67 &  87 & 43 &  36 & 18.27772 & 0.23616494 & 26 & 0\\\\\n",
       "\t9 & 1201647 & 8 &  80 &  95 & 33 &  24 & 26.62493 & 0.44394739 & 53 & 1\\\\\n",
       "\t10 & 1403912 & 1 &  72 &  31 & 40 &  42 & 36.88958 & 0.10394364 & 26 & 0\\\\\n",
       "\t11 & 1943830 & 1 &  88 &  86 & 11 &  58 & 43.22504 & 0.23028462 & 22 & 0\\\\\n",
       "\t12 & 1824483 & 3 &  94 &  96 & 31 &  36 & 21.29448 & 0.25902048 & 23 & 0\\\\\n",
       "\t13 & 1848869 & 5 & 114 & 101 & 43 &  70 & 36.49532 & 0.07919016 & 38 & 1\\\\\n",
       "\t14 & 1669231 & 7 & 110 &  82 & 16 &  44 & 36.08929 & 0.28127616 & 25 & 0\\\\\n",
       "\t15 & 1683688 & 0 & 148 &  58 & 11 & 179 & 39.19208 & 0.16082901 & 45 & 0\\\\\n",
       "\\end{tabular}\n"
      ],
      "text/markdown": [
       "\n",
       "A data.frame: 15 × 10\n",
       "\n",
       "| <!--/--> | PatientID &lt;int&gt; | Pregnancies &lt;int&gt; | PlasmaGlucose &lt;int&gt; | DiastolicBloodPressure &lt;int&gt; | TricepsThickness &lt;int&gt; | SerumInsulin &lt;int&gt; | BMI &lt;dbl&gt; | DiabetesPedigree &lt;dbl&gt; | Age &lt;int&gt; | Diabetic &lt;int&gt; |\n",
       "|---|---|---|---|---|---|---|---|---|---|---|\n",
       "| 1 | 1354778 | 0 | 171 |  80 | 34 |  23 | 43.50973 | 1.21319135 | 21 | 0 |\n",
       "| 2 | 1147438 | 8 |  92 |  93 | 47 |  36 | 21.24058 | 0.15836498 | 23 | 0 |\n",
       "| 3 | 1640031 | 7 | 115 |  47 | 52 |  35 | 41.51152 | 0.07901857 | 23 | 0 |\n",
       "| 4 | 1883350 | 9 | 103 |  78 | 25 | 304 | 29.58219 | 1.28286985 | 43 | 1 |\n",
       "| 5 | 1424119 | 1 |  85 |  59 | 27 |  35 | 42.60454 | 0.54954187 | 22 | 0 |\n",
       "| 6 | 1619297 | 0 |  82 |  92 |  9 | 253 | 19.72416 | 0.10342450 | 26 | 0 |\n",
       "| 7 | 1660149 | 0 | 133 |  47 | 19 | 227 | 21.94136 | 0.17415978 | 21 | 0 |\n",
       "| 8 | 1458769 | 0 |  67 |  87 | 43 |  36 | 18.27772 | 0.23616494 | 26 | 0 |\n",
       "| 9 | 1201647 | 8 |  80 |  95 | 33 |  24 | 26.62493 | 0.44394739 | 53 | 1 |\n",
       "| 10 | 1403912 | 1 |  72 |  31 | 40 |  42 | 36.88958 | 0.10394364 | 26 | 0 |\n",
       "| 11 | 1943830 | 1 |  88 |  86 | 11 |  58 | 43.22504 | 0.23028462 | 22 | 0 |\n",
       "| 12 | 1824483 | 3 |  94 |  96 | 31 |  36 | 21.29448 | 0.25902048 | 23 | 0 |\n",
       "| 13 | 1848869 | 5 | 114 | 101 | 43 |  70 | 36.49532 | 0.07919016 | 38 | 1 |\n",
       "| 14 | 1669231 | 7 | 110 |  82 | 16 |  44 | 36.08929 | 0.28127616 | 25 | 0 |\n",
       "| 15 | 1683688 | 0 | 148 |  58 | 11 | 179 | 39.19208 | 0.16082901 | 45 | 0 |\n",
       "\n"
      ],
      "text/plain": [
       "   PatientID Pregnancies PlasmaGlucose DiastolicBloodPressure TricepsThickness\n",
       "1  1354778   0           171            80                    34              \n",
       "2  1147438   8            92            93                    47              \n",
       "3  1640031   7           115            47                    52              \n",
       "4  1883350   9           103            78                    25              \n",
       "5  1424119   1            85            59                    27              \n",
       "6  1619297   0            82            92                     9              \n",
       "7  1660149   0           133            47                    19              \n",
       "8  1458769   0            67            87                    43              \n",
       "9  1201647   8            80            95                    33              \n",
       "10 1403912   1            72            31                    40              \n",
       "11 1943830   1            88            86                    11              \n",
       "12 1824483   3            94            96                    31              \n",
       "13 1848869   5           114           101                    43              \n",
       "14 1669231   7           110            82                    16              \n",
       "15 1683688   0           148            58                    11              \n",
       "   SerumInsulin BMI      DiabetesPedigree Age Diabetic\n",
       "1   23          43.50973 1.21319135       21  0       \n",
       "2   36          21.24058 0.15836498       23  0       \n",
       "3   35          41.51152 0.07901857       23  0       \n",
       "4  304          29.58219 1.28286985       43  1       \n",
       "5   35          42.60454 0.54954187       22  0       \n",
       "6  253          19.72416 0.10342450       26  0       \n",
       "7  227          21.94136 0.17415978       21  0       \n",
       "8   36          18.27772 0.23616494       26  0       \n",
       "9   24          26.62493 0.44394739       53  1       \n",
       "10  42          36.88958 0.10394364       26  0       \n",
       "11  58          43.22504 0.23028462       22  0       \n",
       "12  36          21.29448 0.25902048       23  0       \n",
       "13  70          36.49532 0.07919016       38  1       \n",
       "14  44          36.08929 0.28127616       25  0       \n",
       "15 179          39.19208 0.16082901       45  0       "
      ]
     },
     "metadata": {},
     "output_type": "display_data"
    }
   ],
   "source": [
    "head(df, 15)"
   ]
  },
  {
   "cell_type": "code",
   "execution_count": 18,
   "metadata": {
    "gather": {
     "logged": 1661618947477
    },
    "jupyter": {
     "outputs_hidden": false,
     "source_hidden": false
    },
    "nteract": {
     "transient": {
      "deleting": false
     }
    }
   },
   "outputs": [
    {
     "data": {
      "text/plain": [
       "   PatientID        Pregnancies     PlasmaGlucose   DiastolicBloodPressure\n",
       " Min.   :1000038   Min.   : 0.000   Min.   : 44.0   Min.   : 24.00        \n",
       " 1st Qu.:1252866   1st Qu.: 0.000   1st Qu.: 84.0   1st Qu.: 58.00        \n",
       " Median :1505508   Median : 2.000   Median :104.0   Median : 72.00        \n",
       " Mean   :1502922   Mean   : 3.225   Mean   :107.9   Mean   : 71.22        \n",
       " 3rd Qu.:1755205   3rd Qu.: 6.000   3rd Qu.:129.0   3rd Qu.: 85.00        \n",
       " Max.   :1999997   Max.   :14.000   Max.   :192.0   Max.   :117.00        \n",
       " TricepsThickness  SerumInsulin        BMI        DiabetesPedigree \n",
       " Min.   : 7.00    Min.   : 14.0   Min.   :18.20   Min.   :0.07804  \n",
       " 1st Qu.:15.00    1st Qu.: 39.0   1st Qu.:21.26   1st Qu.:0.13774  \n",
       " Median :31.00    Median : 83.0   Median :31.77   Median :0.20030  \n",
       " Mean   :28.81    Mean   :137.9   Mean   :31.51   Mean   :0.39897  \n",
       " 3rd Qu.:41.00    3rd Qu.:195.0   3rd Qu.:39.26   3rd Qu.:0.61629  \n",
       " Max.   :93.00    Max.   :799.0   Max.   :56.03   Max.   :2.30159  \n",
       "      Age           Diabetic     \n",
       " Min.   :21.00   Min.   :0.0000  \n",
       " 1st Qu.:22.00   1st Qu.:0.0000  \n",
       " Median :24.00   Median :0.0000  \n",
       " Mean   :30.14   Mean   :0.3333  \n",
       " 3rd Qu.:35.00   3rd Qu.:1.0000  \n",
       " Max.   :77.00   Max.   :1.0000  "
      ]
     },
     "metadata": {},
     "output_type": "display_data"
    }
   ],
   "source": [
    "summary(df)"
   ]
  },
  {
   "cell_type": "code",
   "execution_count": 25,
   "metadata": {
    "gather": {
     "logged": 1661619699682
    },
    "jupyter": {
     "outputs_hidden": false,
     "source_hidden": false
    },
    "nteract": {
     "transient": {
      "deleting": false
     }
    }
   },
   "outputs": [],
   "source": [
    "library(readxl)\r\n",
    "library(readr)"
   ]
  },
  {
   "cell_type": "code",
   "execution_count": 38,
   "metadata": {
    "gather": {
     "logged": 1661620811249
    },
    "jupyter": {
     "outputs_hidden": false,
     "source_hidden": false
    },
    "nteract": {
     "transient": {
      "deleting": false
     }
    }
   },
   "outputs": [],
   "source": [
    "a<-read.csv('https://raw.githubusercontent.com/pavan03ds/Feature-Engineering/main/train.csv')"
   ]
  },
  {
   "cell_type": "code",
   "execution_count": 39,
   "metadata": {
    "gather": {
     "logged": 1661620815963
    },
    "jupyter": {
     "outputs_hidden": false,
     "source_hidden": false
    },
    "nteract": {
     "transient": {
      "deleting": false
     }
    }
   },
   "outputs": [
    {
     "data": {
      "text/html": [
       "<table class=\"dataframe\">\n",
       "<caption>A data.frame: 6 × 81</caption>\n",
       "<thead>\n",
       "\t<tr><th></th><th scope=col>Id</th><th scope=col>MSSubClass</th><th scope=col>MSZoning</th><th scope=col>LotFrontage</th><th scope=col>LotArea</th><th scope=col>Street</th><th scope=col>Alley</th><th scope=col>LotShape</th><th scope=col>LandContour</th><th scope=col>Utilities</th><th scope=col>⋯</th><th scope=col>PoolArea</th><th scope=col>PoolQC</th><th scope=col>Fence</th><th scope=col>MiscFeature</th><th scope=col>MiscVal</th><th scope=col>MoSold</th><th scope=col>YrSold</th><th scope=col>SaleType</th><th scope=col>SaleCondition</th><th scope=col>SalePrice</th></tr>\n",
       "\t<tr><th></th><th scope=col>&lt;int&gt;</th><th scope=col>&lt;int&gt;</th><th scope=col>&lt;chr&gt;</th><th scope=col>&lt;int&gt;</th><th scope=col>&lt;int&gt;</th><th scope=col>&lt;chr&gt;</th><th scope=col>&lt;chr&gt;</th><th scope=col>&lt;chr&gt;</th><th scope=col>&lt;chr&gt;</th><th scope=col>&lt;chr&gt;</th><th scope=col>⋯</th><th scope=col>&lt;int&gt;</th><th scope=col>&lt;chr&gt;</th><th scope=col>&lt;chr&gt;</th><th scope=col>&lt;chr&gt;</th><th scope=col>&lt;int&gt;</th><th scope=col>&lt;int&gt;</th><th scope=col>&lt;int&gt;</th><th scope=col>&lt;chr&gt;</th><th scope=col>&lt;chr&gt;</th><th scope=col>&lt;int&gt;</th></tr>\n",
       "</thead>\n",
       "<tbody>\n",
       "\t<tr><th scope=row>1</th><td>1</td><td>60</td><td>RL</td><td>65</td><td> 8450</td><td>Pave</td><td>NA</td><td>Reg</td><td>Lvl</td><td>AllPub</td><td>⋯</td><td>0</td><td>NA</td><td>NA   </td><td>NA  </td><td>  0</td><td> 2</td><td>2008</td><td>WD</td><td>Normal </td><td>208500</td></tr>\n",
       "\t<tr><th scope=row>2</th><td>2</td><td>20</td><td>RL</td><td>80</td><td> 9600</td><td>Pave</td><td>NA</td><td>Reg</td><td>Lvl</td><td>AllPub</td><td>⋯</td><td>0</td><td>NA</td><td>NA   </td><td>NA  </td><td>  0</td><td> 5</td><td>2007</td><td>WD</td><td>Normal </td><td>181500</td></tr>\n",
       "\t<tr><th scope=row>3</th><td>3</td><td>60</td><td>RL</td><td>68</td><td>11250</td><td>Pave</td><td>NA</td><td>IR1</td><td>Lvl</td><td>AllPub</td><td>⋯</td><td>0</td><td>NA</td><td>NA   </td><td>NA  </td><td>  0</td><td> 9</td><td>2008</td><td>WD</td><td>Normal </td><td>223500</td></tr>\n",
       "\t<tr><th scope=row>4</th><td>4</td><td>70</td><td>RL</td><td>60</td><td> 9550</td><td>Pave</td><td>NA</td><td>IR1</td><td>Lvl</td><td>AllPub</td><td>⋯</td><td>0</td><td>NA</td><td>NA   </td><td>NA  </td><td>  0</td><td> 2</td><td>2006</td><td>WD</td><td>Abnorml</td><td>140000</td></tr>\n",
       "\t<tr><th scope=row>5</th><td>5</td><td>60</td><td>RL</td><td>84</td><td>14260</td><td>Pave</td><td>NA</td><td>IR1</td><td>Lvl</td><td>AllPub</td><td>⋯</td><td>0</td><td>NA</td><td>NA   </td><td>NA  </td><td>  0</td><td>12</td><td>2008</td><td>WD</td><td>Normal </td><td>250000</td></tr>\n",
       "\t<tr><th scope=row>6</th><td>6</td><td>50</td><td>RL</td><td>85</td><td>14115</td><td>Pave</td><td>NA</td><td>IR1</td><td>Lvl</td><td>AllPub</td><td>⋯</td><td>0</td><td>NA</td><td>MnPrv</td><td>Shed</td><td>700</td><td>10</td><td>2009</td><td>WD</td><td>Normal </td><td>143000</td></tr>\n",
       "</tbody>\n",
       "</table>\n"
      ],
      "text/latex": [
       "A data.frame: 6 × 81\n",
       "\\begin{tabular}{r|lllllllllllllllllllll}\n",
       "  & Id & MSSubClass & MSZoning & LotFrontage & LotArea & Street & Alley & LotShape & LandContour & Utilities & ⋯ & PoolArea & PoolQC & Fence & MiscFeature & MiscVal & MoSold & YrSold & SaleType & SaleCondition & SalePrice\\\\\n",
       "  & <int> & <int> & <chr> & <int> & <int> & <chr> & <chr> & <chr> & <chr> & <chr> & ⋯ & <int> & <chr> & <chr> & <chr> & <int> & <int> & <int> & <chr> & <chr> & <int>\\\\\n",
       "\\hline\n",
       "\t1 & 1 & 60 & RL & 65 &  8450 & Pave & NA & Reg & Lvl & AllPub & ⋯ & 0 & NA & NA    & NA   &   0 &  2 & 2008 & WD & Normal  & 208500\\\\\n",
       "\t2 & 2 & 20 & RL & 80 &  9600 & Pave & NA & Reg & Lvl & AllPub & ⋯ & 0 & NA & NA    & NA   &   0 &  5 & 2007 & WD & Normal  & 181500\\\\\n",
       "\t3 & 3 & 60 & RL & 68 & 11250 & Pave & NA & IR1 & Lvl & AllPub & ⋯ & 0 & NA & NA    & NA   &   0 &  9 & 2008 & WD & Normal  & 223500\\\\\n",
       "\t4 & 4 & 70 & RL & 60 &  9550 & Pave & NA & IR1 & Lvl & AllPub & ⋯ & 0 & NA & NA    & NA   &   0 &  2 & 2006 & WD & Abnorml & 140000\\\\\n",
       "\t5 & 5 & 60 & RL & 84 & 14260 & Pave & NA & IR1 & Lvl & AllPub & ⋯ & 0 & NA & NA    & NA   &   0 & 12 & 2008 & WD & Normal  & 250000\\\\\n",
       "\t6 & 6 & 50 & RL & 85 & 14115 & Pave & NA & IR1 & Lvl & AllPub & ⋯ & 0 & NA & MnPrv & Shed & 700 & 10 & 2009 & WD & Normal  & 143000\\\\\n",
       "\\end{tabular}\n"
      ],
      "text/markdown": [
       "\n",
       "A data.frame: 6 × 81\n",
       "\n",
       "| <!--/--> | Id &lt;int&gt; | MSSubClass &lt;int&gt; | MSZoning &lt;chr&gt; | LotFrontage &lt;int&gt; | LotArea &lt;int&gt; | Street &lt;chr&gt; | Alley &lt;chr&gt; | LotShape &lt;chr&gt; | LandContour &lt;chr&gt; | Utilities &lt;chr&gt; | ⋯ ⋯ | PoolArea &lt;int&gt; | PoolQC &lt;chr&gt; | Fence &lt;chr&gt; | MiscFeature &lt;chr&gt; | MiscVal &lt;int&gt; | MoSold &lt;int&gt; | YrSold &lt;int&gt; | SaleType &lt;chr&gt; | SaleCondition &lt;chr&gt; | SalePrice &lt;int&gt; |\n",
       "|---|---|---|---|---|---|---|---|---|---|---|---|---|---|---|---|---|---|---|---|---|---|\n",
       "| 1 | 1 | 60 | RL | 65 |  8450 | Pave | NA | Reg | Lvl | AllPub | ⋯ | 0 | NA | NA    | NA   |   0 |  2 | 2008 | WD | Normal  | 208500 |\n",
       "| 2 | 2 | 20 | RL | 80 |  9600 | Pave | NA | Reg | Lvl | AllPub | ⋯ | 0 | NA | NA    | NA   |   0 |  5 | 2007 | WD | Normal  | 181500 |\n",
       "| 3 | 3 | 60 | RL | 68 | 11250 | Pave | NA | IR1 | Lvl | AllPub | ⋯ | 0 | NA | NA    | NA   |   0 |  9 | 2008 | WD | Normal  | 223500 |\n",
       "| 4 | 4 | 70 | RL | 60 |  9550 | Pave | NA | IR1 | Lvl | AllPub | ⋯ | 0 | NA | NA    | NA   |   0 |  2 | 2006 | WD | Abnorml | 140000 |\n",
       "| 5 | 5 | 60 | RL | 84 | 14260 | Pave | NA | IR1 | Lvl | AllPub | ⋯ | 0 | NA | NA    | NA   |   0 | 12 | 2008 | WD | Normal  | 250000 |\n",
       "| 6 | 6 | 50 | RL | 85 | 14115 | Pave | NA | IR1 | Lvl | AllPub | ⋯ | 0 | NA | MnPrv | Shed | 700 | 10 | 2009 | WD | Normal  | 143000 |\n",
       "\n"
      ],
      "text/plain": [
       "  Id MSSubClass MSZoning LotFrontage LotArea Street Alley LotShape LandContour\n",
       "1 1  60         RL       65           8450   Pave   NA    Reg      Lvl        \n",
       "2 2  20         RL       80           9600   Pave   NA    Reg      Lvl        \n",
       "3 3  60         RL       68          11250   Pave   NA    IR1      Lvl        \n",
       "4 4  70         RL       60           9550   Pave   NA    IR1      Lvl        \n",
       "5 5  60         RL       84          14260   Pave   NA    IR1      Lvl        \n",
       "6 6  50         RL       85          14115   Pave   NA    IR1      Lvl        \n",
       "  Utilities ⋯ PoolArea PoolQC Fence MiscFeature MiscVal MoSold YrSold SaleType\n",
       "1 AllPub    ⋯ 0        NA     NA    NA            0      2     2008   WD      \n",
       "2 AllPub    ⋯ 0        NA     NA    NA            0      5     2007   WD      \n",
       "3 AllPub    ⋯ 0        NA     NA    NA            0      9     2008   WD      \n",
       "4 AllPub    ⋯ 0        NA     NA    NA            0      2     2006   WD      \n",
       "5 AllPub    ⋯ 0        NA     NA    NA            0     12     2008   WD      \n",
       "6 AllPub    ⋯ 0        NA     MnPrv Shed        700     10     2009   WD      \n",
       "  SaleCondition SalePrice\n",
       "1 Normal        208500   \n",
       "2 Normal        181500   \n",
       "3 Normal        223500   \n",
       "4 Abnorml       140000   \n",
       "5 Normal        250000   \n",
       "6 Normal        143000   "
      ]
     },
     "metadata": {},
     "output_type": "display_data"
    }
   ],
   "source": [
    "head(a)"
   ]
  },
  {
   "cell_type": "code",
   "execution_count": 48,
   "metadata": {
    "gather": {
     "logged": 1661621355607
    },
    "jupyter": {
     "outputs_hidden": false,
     "source_hidden": false
    },
    "nteract": {
     "transient": {
      "deleting": false
     }
    }
   },
   "outputs": [],
   "source": [
    "library(here)\r\n",
    "library(skimr)\r\n",
    "library(janitor)\r\n",
    "library(dplyr)"
   ]
  },
  {
   "cell_type": "code",
   "execution_count": 49,
   "metadata": {
    "gather": {
     "logged": 1661621413465
    },
    "jupyter": {
     "outputs_hidden": false,
     "source_hidden": false
    },
    "nteract": {
     "transient": {
      "deleting": false
     }
    }
   },
   "outputs": [
    {
     "name": "stdout",
     "output_type": "stream",
     "text": [
      "Rows: 1,460\n",
      "Columns: 81\n",
      "$ Id            \u001b[3m\u001b[90m<int>\u001b[39m\u001b[23m 1, 2, 3, 4, 5, 6, 7, 8, 9, 10, 11, 12, 13, 14, 15, 16, 1…\n",
      "$ MSSubClass    \u001b[3m\u001b[90m<int>\u001b[39m\u001b[23m 60, 20, 60, 70, 60, 50, 20, 60, 50, 190, 20, 60, 20, 20,…\n",
      "$ MSZoning      \u001b[3m\u001b[90m<chr>\u001b[39m\u001b[23m \"RL\", \"RL\", \"RL\", \"RL\", \"RL\", \"RL\", \"RL\", \"RL\", \"RM\", \"R…\n",
      "$ LotFrontage   \u001b[3m\u001b[90m<int>\u001b[39m\u001b[23m 65, 80, 68, 60, 84, 85, 75, NA, 51, 50, 70, 85, NA, 91, …\n",
      "$ LotArea       \u001b[3m\u001b[90m<int>\u001b[39m\u001b[23m 8450, 9600, 11250, 9550, 14260, 14115, 10084, 10382, 612…\n",
      "$ Street        \u001b[3m\u001b[90m<chr>\u001b[39m\u001b[23m \"Pave\", \"Pave\", \"Pave\", \"Pave\", \"Pave\", \"Pave\", \"Pave\", …\n",
      "$ Alley         \u001b[3m\u001b[90m<chr>\u001b[39m\u001b[23m NA, NA, NA, NA, NA, NA, NA, NA, NA, NA, NA, NA, NA, NA, …\n",
      "$ LotShape      \u001b[3m\u001b[90m<chr>\u001b[39m\u001b[23m \"Reg\", \"Reg\", \"IR1\", \"IR1\", \"IR1\", \"IR1\", \"Reg\", \"IR1\", …\n",
      "$ LandContour   \u001b[3m\u001b[90m<chr>\u001b[39m\u001b[23m \"Lvl\", \"Lvl\", \"Lvl\", \"Lvl\", \"Lvl\", \"Lvl\", \"Lvl\", \"Lvl\", …\n",
      "$ Utilities     \u001b[3m\u001b[90m<chr>\u001b[39m\u001b[23m \"AllPub\", \"AllPub\", \"AllPub\", \"AllPub\", \"AllPub\", \"AllPu…\n",
      "$ LotConfig     \u001b[3m\u001b[90m<chr>\u001b[39m\u001b[23m \"Inside\", \"FR2\", \"Inside\", \"Corner\", \"FR2\", \"Inside\", \"I…\n",
      "$ LandSlope     \u001b[3m\u001b[90m<chr>\u001b[39m\u001b[23m \"Gtl\", \"Gtl\", \"Gtl\", \"Gtl\", \"Gtl\", \"Gtl\", \"Gtl\", \"Gtl\", …\n",
      "$ Neighborhood  \u001b[3m\u001b[90m<chr>\u001b[39m\u001b[23m \"CollgCr\", \"Veenker\", \"CollgCr\", \"Crawfor\", \"NoRidge\", \"…\n",
      "$ Condition1    \u001b[3m\u001b[90m<chr>\u001b[39m\u001b[23m \"Norm\", \"Feedr\", \"Norm\", \"Norm\", \"Norm\", \"Norm\", \"Norm\",…\n",
      "$ Condition2    \u001b[3m\u001b[90m<chr>\u001b[39m\u001b[23m \"Norm\", \"Norm\", \"Norm\", \"Norm\", \"Norm\", \"Norm\", \"Norm\", …\n",
      "$ BldgType      \u001b[3m\u001b[90m<chr>\u001b[39m\u001b[23m \"1Fam\", \"1Fam\", \"1Fam\", \"1Fam\", \"1Fam\", \"1Fam\", \"1Fam\", …\n",
      "$ HouseStyle    \u001b[3m\u001b[90m<chr>\u001b[39m\u001b[23m \"2Story\", \"1Story\", \"2Story\", \"2Story\", \"2Story\", \"1.5Fi…\n",
      "$ OverallQual   \u001b[3m\u001b[90m<int>\u001b[39m\u001b[23m 7, 6, 7, 7, 8, 5, 8, 7, 7, 5, 5, 9, 5, 7, 6, 7, 6, 4, 5,…\n",
      "$ OverallCond   \u001b[3m\u001b[90m<int>\u001b[39m\u001b[23m 5, 8, 5, 5, 5, 5, 5, 6, 5, 6, 5, 5, 6, 5, 5, 8, 7, 5, 5,…\n",
      "$ YearBuilt     \u001b[3m\u001b[90m<int>\u001b[39m\u001b[23m 2003, 1976, 2001, 1915, 2000, 1993, 2004, 1973, 1931, 19…\n",
      "$ YearRemodAdd  \u001b[3m\u001b[90m<int>\u001b[39m\u001b[23m 2003, 1976, 2002, 1970, 2000, 1995, 2005, 1973, 1950, 19…\n",
      "$ RoofStyle     \u001b[3m\u001b[90m<chr>\u001b[39m\u001b[23m \"Gable\", \"Gable\", \"Gable\", \"Gable\", \"Gable\", \"Gable\", \"G…\n",
      "$ RoofMatl      \u001b[3m\u001b[90m<chr>\u001b[39m\u001b[23m \"CompShg\", \"CompShg\", \"CompShg\", \"CompShg\", \"CompShg\", \"…\n",
      "$ Exterior1st   \u001b[3m\u001b[90m<chr>\u001b[39m\u001b[23m \"VinylSd\", \"MetalSd\", \"VinylSd\", \"Wd Sdng\", \"VinylSd\", \"…\n",
      "$ Exterior2nd   \u001b[3m\u001b[90m<chr>\u001b[39m\u001b[23m \"VinylSd\", \"MetalSd\", \"VinylSd\", \"Wd Shng\", \"VinylSd\", \"…\n",
      "$ MasVnrType    \u001b[3m\u001b[90m<chr>\u001b[39m\u001b[23m \"BrkFace\", \"None\", \"BrkFace\", \"None\", \"BrkFace\", \"None\",…\n",
      "$ MasVnrArea    \u001b[3m\u001b[90m<int>\u001b[39m\u001b[23m 196, 0, 162, 0, 350, 0, 186, 240, 0, 0, 0, 286, 0, 306, …\n",
      "$ ExterQual     \u001b[3m\u001b[90m<chr>\u001b[39m\u001b[23m \"Gd\", \"TA\", \"Gd\", \"TA\", \"Gd\", \"TA\", \"Gd\", \"TA\", \"TA\", \"T…\n",
      "$ ExterCond     \u001b[3m\u001b[90m<chr>\u001b[39m\u001b[23m \"TA\", \"TA\", \"TA\", \"TA\", \"TA\", \"TA\", \"TA\", \"TA\", \"TA\", \"T…\n",
      "$ Foundation    \u001b[3m\u001b[90m<chr>\u001b[39m\u001b[23m \"PConc\", \"CBlock\", \"PConc\", \"BrkTil\", \"PConc\", \"Wood\", \"…\n",
      "$ BsmtQual      \u001b[3m\u001b[90m<chr>\u001b[39m\u001b[23m \"Gd\", \"Gd\", \"Gd\", \"TA\", \"Gd\", \"Gd\", \"Ex\", \"Gd\", \"TA\", \"T…\n",
      "$ BsmtCond      \u001b[3m\u001b[90m<chr>\u001b[39m\u001b[23m \"TA\", \"TA\", \"TA\", \"Gd\", \"TA\", \"TA\", \"TA\", \"TA\", \"TA\", \"T…\n",
      "$ BsmtExposure  \u001b[3m\u001b[90m<chr>\u001b[39m\u001b[23m \"No\", \"Gd\", \"Mn\", \"No\", \"Av\", \"No\", \"Av\", \"Mn\", \"No\", \"N…\n",
      "$ BsmtFinType1  \u001b[3m\u001b[90m<chr>\u001b[39m\u001b[23m \"GLQ\", \"ALQ\", \"GLQ\", \"ALQ\", \"GLQ\", \"GLQ\", \"GLQ\", \"ALQ\", …\n",
      "$ BsmtFinSF1    \u001b[3m\u001b[90m<int>\u001b[39m\u001b[23m 706, 978, 486, 216, 655, 732, 1369, 859, 0, 851, 906, 99…\n",
      "$ BsmtFinType2  \u001b[3m\u001b[90m<chr>\u001b[39m\u001b[23m \"Unf\", \"Unf\", \"Unf\", \"Unf\", \"Unf\", \"Unf\", \"Unf\", \"BLQ\", …\n",
      "$ BsmtFinSF2    \u001b[3m\u001b[90m<int>\u001b[39m\u001b[23m 0, 0, 0, 0, 0, 0, 0, 32, 0, 0, 0, 0, 0, 0, 0, 0, 0, 0, 0…\n",
      "$ BsmtUnfSF     \u001b[3m\u001b[90m<int>\u001b[39m\u001b[23m 150, 284, 434, 540, 490, 64, 317, 216, 952, 140, 134, 17…\n",
      "$ TotalBsmtSF   \u001b[3m\u001b[90m<int>\u001b[39m\u001b[23m 856, 1262, 920, 756, 1145, 796, 1686, 1107, 952, 991, 10…\n",
      "$ Heating       \u001b[3m\u001b[90m<chr>\u001b[39m\u001b[23m \"GasA\", \"GasA\", \"GasA\", \"GasA\", \"GasA\", \"GasA\", \"GasA\", …\n",
      "$ HeatingQC     \u001b[3m\u001b[90m<chr>\u001b[39m\u001b[23m \"Ex\", \"Ex\", \"Ex\", \"Gd\", \"Ex\", \"Ex\", \"Ex\", \"Ex\", \"Gd\", \"E…\n",
      "$ CentralAir    \u001b[3m\u001b[90m<chr>\u001b[39m\u001b[23m \"Y\", \"Y\", \"Y\", \"Y\", \"Y\", \"Y\", \"Y\", \"Y\", \"Y\", \"Y\", \"Y\", \"…\n",
      "$ Electrical    \u001b[3m\u001b[90m<chr>\u001b[39m\u001b[23m \"SBrkr\", \"SBrkr\", \"SBrkr\", \"SBrkr\", \"SBrkr\", \"SBrkr\", \"S…\n",
      "$ X1stFlrSF     \u001b[3m\u001b[90m<int>\u001b[39m\u001b[23m 856, 1262, 920, 961, 1145, 796, 1694, 1107, 1022, 1077, …\n",
      "$ X2ndFlrSF     \u001b[3m\u001b[90m<int>\u001b[39m\u001b[23m 854, 0, 866, 756, 1053, 566, 0, 983, 752, 0, 0, 1142, 0,…\n",
      "$ LowQualFinSF  \u001b[3m\u001b[90m<int>\u001b[39m\u001b[23m 0, 0, 0, 0, 0, 0, 0, 0, 0, 0, 0, 0, 0, 0, 0, 0, 0, 0, 0,…\n",
      "$ GrLivArea     \u001b[3m\u001b[90m<int>\u001b[39m\u001b[23m 1710, 1262, 1786, 1717, 2198, 1362, 1694, 2090, 1774, 10…\n",
      "$ BsmtFullBath  \u001b[3m\u001b[90m<int>\u001b[39m\u001b[23m 1, 0, 1, 1, 1, 1, 1, 1, 0, 1, 1, 1, 1, 0, 1, 0, 1, 0, 1,…\n",
      "$ BsmtHalfBath  \u001b[3m\u001b[90m<int>\u001b[39m\u001b[23m 0, 1, 0, 0, 0, 0, 0, 0, 0, 0, 0, 0, 0, 0, 0, 0, 0, 0, 0,…\n",
      "$ FullBath      \u001b[3m\u001b[90m<int>\u001b[39m\u001b[23m 2, 2, 2, 1, 2, 1, 2, 2, 2, 1, 1, 3, 1, 2, 1, 1, 1, 2, 1,…\n",
      "$ HalfBath      \u001b[3m\u001b[90m<int>\u001b[39m\u001b[23m 1, 0, 1, 0, 1, 1, 0, 1, 0, 0, 0, 0, 0, 0, 1, 0, 0, 0, 1,…\n",
      "$ BedroomAbvGr  \u001b[3m\u001b[90m<int>\u001b[39m\u001b[23m 3, 3, 3, 3, 4, 1, 3, 3, 2, 2, 3, 4, 2, 3, 2, 2, 2, 2, 3,…\n",
      "$ KitchenAbvGr  \u001b[3m\u001b[90m<int>\u001b[39m\u001b[23m 1, 1, 1, 1, 1, 1, 1, 1, 2, 2, 1, 1, 1, 1, 1, 1, 1, 2, 1,…\n",
      "$ KitchenQual   \u001b[3m\u001b[90m<chr>\u001b[39m\u001b[23m \"Gd\", \"TA\", \"Gd\", \"Gd\", \"Gd\", \"TA\", \"Gd\", \"TA\", \"TA\", \"T…\n",
      "$ TotRmsAbvGrd  \u001b[3m\u001b[90m<int>\u001b[39m\u001b[23m 8, 6, 6, 7, 9, 5, 7, 7, 8, 5, 5, 11, 4, 7, 5, 5, 5, 6, 6…\n",
      "$ Functional    \u001b[3m\u001b[90m<chr>\u001b[39m\u001b[23m \"Typ\", \"Typ\", \"Typ\", \"Typ\", \"Typ\", \"Typ\", \"Typ\", \"Typ\", …\n",
      "$ Fireplaces    \u001b[3m\u001b[90m<int>\u001b[39m\u001b[23m 0, 1, 1, 1, 1, 0, 1, 2, 2, 2, 0, 2, 0, 1, 1, 0, 1, 0, 0,…\n",
      "$ FireplaceQu   \u001b[3m\u001b[90m<chr>\u001b[39m\u001b[23m NA, \"TA\", \"TA\", \"Gd\", \"TA\", NA, \"Gd\", \"TA\", \"TA\", \"TA\", …\n",
      "$ GarageType    \u001b[3m\u001b[90m<chr>\u001b[39m\u001b[23m \"Attchd\", \"Attchd\", \"Attchd\", \"Detchd\", \"Attchd\", \"Attch…\n",
      "$ GarageYrBlt   \u001b[3m\u001b[90m<int>\u001b[39m\u001b[23m 2003, 1976, 2001, 1998, 2000, 1993, 2004, 1973, 1931, 19…\n",
      "$ GarageFinish  \u001b[3m\u001b[90m<chr>\u001b[39m\u001b[23m \"RFn\", \"RFn\", \"RFn\", \"Unf\", \"RFn\", \"Unf\", \"RFn\", \"RFn\", …\n",
      "$ GarageCars    \u001b[3m\u001b[90m<int>\u001b[39m\u001b[23m 2, 2, 2, 3, 3, 2, 2, 2, 2, 1, 1, 3, 1, 3, 1, 2, 2, 2, 2,…\n",
      "$ GarageArea    \u001b[3m\u001b[90m<int>\u001b[39m\u001b[23m 548, 460, 608, 642, 836, 480, 636, 484, 468, 205, 384, 7…\n",
      "$ GarageQual    \u001b[3m\u001b[90m<chr>\u001b[39m\u001b[23m \"TA\", \"TA\", \"TA\", \"TA\", \"TA\", \"TA\", \"TA\", \"TA\", \"Fa\", \"G…\n",
      "$ GarageCond    \u001b[3m\u001b[90m<chr>\u001b[39m\u001b[23m \"TA\", \"TA\", \"TA\", \"TA\", \"TA\", \"TA\", \"TA\", \"TA\", \"TA\", \"T…\n",
      "$ PavedDrive    \u001b[3m\u001b[90m<chr>\u001b[39m\u001b[23m \"Y\", \"Y\", \"Y\", \"Y\", \"Y\", \"Y\", \"Y\", \"Y\", \"Y\", \"Y\", \"Y\", \"…\n",
      "$ WoodDeckSF    \u001b[3m\u001b[90m<int>\u001b[39m\u001b[23m 0, 298, 0, 0, 192, 40, 255, 235, 90, 0, 0, 147, 140, 160…\n",
      "$ OpenPorchSF   \u001b[3m\u001b[90m<int>\u001b[39m\u001b[23m 61, 0, 42, 35, 84, 30, 57, 204, 0, 4, 0, 21, 0, 33, 213,…\n",
      "$ EnclosedPorch \u001b[3m\u001b[90m<int>\u001b[39m\u001b[23m 0, 0, 0, 272, 0, 0, 0, 228, 205, 0, 0, 0, 0, 0, 176, 0, …\n",
      "$ X3SsnPorch    \u001b[3m\u001b[90m<int>\u001b[39m\u001b[23m 0, 0, 0, 0, 0, 320, 0, 0, 0, 0, 0, 0, 0, 0, 0, 0, 0, 0, …\n",
      "$ ScreenPorch   \u001b[3m\u001b[90m<int>\u001b[39m\u001b[23m 0, 0, 0, 0, 0, 0, 0, 0, 0, 0, 0, 0, 176, 0, 0, 0, 0, 0, …\n",
      "$ PoolArea      \u001b[3m\u001b[90m<int>\u001b[39m\u001b[23m 0, 0, 0, 0, 0, 0, 0, 0, 0, 0, 0, 0, 0, 0, 0, 0, 0, 0, 0,…\n",
      "$ PoolQC        \u001b[3m\u001b[90m<chr>\u001b[39m\u001b[23m NA, NA, NA, NA, NA, NA, NA, NA, NA, NA, NA, NA, NA, NA, …\n",
      "$ Fence         \u001b[3m\u001b[90m<chr>\u001b[39m\u001b[23m NA, NA, NA, NA, NA, \"MnPrv\", NA, NA, NA, NA, NA, NA, NA,…\n",
      "$ MiscFeature   \u001b[3m\u001b[90m<chr>\u001b[39m\u001b[23m NA, NA, NA, NA, NA, \"Shed\", NA, \"Shed\", NA, NA, NA, NA, …\n",
      "$ MiscVal       \u001b[3m\u001b[90m<int>\u001b[39m\u001b[23m 0, 0, 0, 0, 0, 700, 0, 350, 0, 0, 0, 0, 0, 0, 0, 0, 700,…\n",
      "$ MoSold        \u001b[3m\u001b[90m<int>\u001b[39m\u001b[23m 2, 5, 9, 2, 12, 10, 8, 11, 4, 1, 2, 7, 9, 8, 5, 7, 3, 10…\n",
      "$ YrSold        \u001b[3m\u001b[90m<int>\u001b[39m\u001b[23m 2008, 2007, 2008, 2006, 2008, 2009, 2007, 2009, 2008, 20…\n",
      "$ SaleType      \u001b[3m\u001b[90m<chr>\u001b[39m\u001b[23m \"WD\", \"WD\", \"WD\", \"WD\", \"WD\", \"WD\", \"WD\", \"WD\", \"WD\", \"W…\n",
      "$ SaleCondition \u001b[3m\u001b[90m<chr>\u001b[39m\u001b[23m \"Normal\", \"Normal\", \"Normal\", \"Abnorml\", \"Normal\", \"Norm…\n",
      "$ SalePrice     \u001b[3m\u001b[90m<int>\u001b[39m\u001b[23m 208500, 181500, 223500, 140000, 250000, 143000, 307000, …\n"
     ]
    }
   ],
   "source": [
    "glimpse(a)"
   ]
  },
  {
   "cell_type": "code",
   "execution_count": 53,
   "metadata": {
    "gather": {
     "logged": 1661621555384
    },
    "jupyter": {
     "outputs_hidden": false,
     "source_hidden": false
    },
    "nteract": {
     "transient": {
      "deleting": false
     }
    }
   },
   "outputs": [
    {
     "data": {
      "text/html": [
       "<table class=\"dataframe\">\n",
       "<caption>A data.frame: 6 × 80</caption>\n",
       "<thead>\n",
       "\t<tr><th></th><th scope=col>MSSubClass</th><th scope=col>MSZoning</th><th scope=col>LotFrontage</th><th scope=col>LotArea</th><th scope=col>Street</th><th scope=col>Alley</th><th scope=col>LotShape</th><th scope=col>LandContour</th><th scope=col>Utilities</th><th scope=col>LotConfig</th><th scope=col>⋯</th><th scope=col>PoolArea</th><th scope=col>PoolQC</th><th scope=col>Fence</th><th scope=col>MiscFeature</th><th scope=col>MiscVal</th><th scope=col>MoSold</th><th scope=col>YrSold</th><th scope=col>SaleType</th><th scope=col>SaleCondition</th><th scope=col>SalePrice</th></tr>\n",
       "\t<tr><th></th><th scope=col>&lt;int&gt;</th><th scope=col>&lt;chr&gt;</th><th scope=col>&lt;int&gt;</th><th scope=col>&lt;int&gt;</th><th scope=col>&lt;chr&gt;</th><th scope=col>&lt;chr&gt;</th><th scope=col>&lt;chr&gt;</th><th scope=col>&lt;chr&gt;</th><th scope=col>&lt;chr&gt;</th><th scope=col>&lt;chr&gt;</th><th scope=col>⋯</th><th scope=col>&lt;int&gt;</th><th scope=col>&lt;chr&gt;</th><th scope=col>&lt;chr&gt;</th><th scope=col>&lt;chr&gt;</th><th scope=col>&lt;int&gt;</th><th scope=col>&lt;int&gt;</th><th scope=col>&lt;int&gt;</th><th scope=col>&lt;chr&gt;</th><th scope=col>&lt;chr&gt;</th><th scope=col>&lt;int&gt;</th></tr>\n",
       "</thead>\n",
       "<tbody>\n",
       "\t<tr><th scope=row>1</th><td>60</td><td>RL</td><td>65</td><td> 8450</td><td>Pave</td><td>NA</td><td>Reg</td><td>Lvl</td><td>AllPub</td><td>Inside</td><td>⋯</td><td>0</td><td>NA</td><td>NA   </td><td>NA  </td><td>  0</td><td> 2</td><td>2008</td><td>WD</td><td>Normal </td><td>208500</td></tr>\n",
       "\t<tr><th scope=row>2</th><td>20</td><td>RL</td><td>80</td><td> 9600</td><td>Pave</td><td>NA</td><td>Reg</td><td>Lvl</td><td>AllPub</td><td>FR2   </td><td>⋯</td><td>0</td><td>NA</td><td>NA   </td><td>NA  </td><td>  0</td><td> 5</td><td>2007</td><td>WD</td><td>Normal </td><td>181500</td></tr>\n",
       "\t<tr><th scope=row>3</th><td>60</td><td>RL</td><td>68</td><td>11250</td><td>Pave</td><td>NA</td><td>IR1</td><td>Lvl</td><td>AllPub</td><td>Inside</td><td>⋯</td><td>0</td><td>NA</td><td>NA   </td><td>NA  </td><td>  0</td><td> 9</td><td>2008</td><td>WD</td><td>Normal </td><td>223500</td></tr>\n",
       "\t<tr><th scope=row>4</th><td>70</td><td>RL</td><td>60</td><td> 9550</td><td>Pave</td><td>NA</td><td>IR1</td><td>Lvl</td><td>AllPub</td><td>Corner</td><td>⋯</td><td>0</td><td>NA</td><td>NA   </td><td>NA  </td><td>  0</td><td> 2</td><td>2006</td><td>WD</td><td>Abnorml</td><td>140000</td></tr>\n",
       "\t<tr><th scope=row>5</th><td>60</td><td>RL</td><td>84</td><td>14260</td><td>Pave</td><td>NA</td><td>IR1</td><td>Lvl</td><td>AllPub</td><td>FR2   </td><td>⋯</td><td>0</td><td>NA</td><td>NA   </td><td>NA  </td><td>  0</td><td>12</td><td>2008</td><td>WD</td><td>Normal </td><td>250000</td></tr>\n",
       "\t<tr><th scope=row>6</th><td>50</td><td>RL</td><td>85</td><td>14115</td><td>Pave</td><td>NA</td><td>IR1</td><td>Lvl</td><td>AllPub</td><td>Inside</td><td>⋯</td><td>0</td><td>NA</td><td>MnPrv</td><td>Shed</td><td>700</td><td>10</td><td>2009</td><td>WD</td><td>Normal </td><td>143000</td></tr>\n",
       "</tbody>\n",
       "</table>\n"
      ],
      "text/latex": [
       "A data.frame: 6 × 80\n",
       "\\begin{tabular}{r|lllllllllllllllllllll}\n",
       "  & MSSubClass & MSZoning & LotFrontage & LotArea & Street & Alley & LotShape & LandContour & Utilities & LotConfig & ⋯ & PoolArea & PoolQC & Fence & MiscFeature & MiscVal & MoSold & YrSold & SaleType & SaleCondition & SalePrice\\\\\n",
       "  & <int> & <chr> & <int> & <int> & <chr> & <chr> & <chr> & <chr> & <chr> & <chr> & ⋯ & <int> & <chr> & <chr> & <chr> & <int> & <int> & <int> & <chr> & <chr> & <int>\\\\\n",
       "\\hline\n",
       "\t1 & 60 & RL & 65 &  8450 & Pave & NA & Reg & Lvl & AllPub & Inside & ⋯ & 0 & NA & NA    & NA   &   0 &  2 & 2008 & WD & Normal  & 208500\\\\\n",
       "\t2 & 20 & RL & 80 &  9600 & Pave & NA & Reg & Lvl & AllPub & FR2    & ⋯ & 0 & NA & NA    & NA   &   0 &  5 & 2007 & WD & Normal  & 181500\\\\\n",
       "\t3 & 60 & RL & 68 & 11250 & Pave & NA & IR1 & Lvl & AllPub & Inside & ⋯ & 0 & NA & NA    & NA   &   0 &  9 & 2008 & WD & Normal  & 223500\\\\\n",
       "\t4 & 70 & RL & 60 &  9550 & Pave & NA & IR1 & Lvl & AllPub & Corner & ⋯ & 0 & NA & NA    & NA   &   0 &  2 & 2006 & WD & Abnorml & 140000\\\\\n",
       "\t5 & 60 & RL & 84 & 14260 & Pave & NA & IR1 & Lvl & AllPub & FR2    & ⋯ & 0 & NA & NA    & NA   &   0 & 12 & 2008 & WD & Normal  & 250000\\\\\n",
       "\t6 & 50 & RL & 85 & 14115 & Pave & NA & IR1 & Lvl & AllPub & Inside & ⋯ & 0 & NA & MnPrv & Shed & 700 & 10 & 2009 & WD & Normal  & 143000\\\\\n",
       "\\end{tabular}\n"
      ],
      "text/markdown": [
       "\n",
       "A data.frame: 6 × 80\n",
       "\n",
       "| <!--/--> | MSSubClass &lt;int&gt; | MSZoning &lt;chr&gt; | LotFrontage &lt;int&gt; | LotArea &lt;int&gt; | Street &lt;chr&gt; | Alley &lt;chr&gt; | LotShape &lt;chr&gt; | LandContour &lt;chr&gt; | Utilities &lt;chr&gt; | LotConfig &lt;chr&gt; | ⋯ ⋯ | PoolArea &lt;int&gt; | PoolQC &lt;chr&gt; | Fence &lt;chr&gt; | MiscFeature &lt;chr&gt; | MiscVal &lt;int&gt; | MoSold &lt;int&gt; | YrSold &lt;int&gt; | SaleType &lt;chr&gt; | SaleCondition &lt;chr&gt; | SalePrice &lt;int&gt; |\n",
       "|---|---|---|---|---|---|---|---|---|---|---|---|---|---|---|---|---|---|---|---|---|---|\n",
       "| 1 | 60 | RL | 65 |  8450 | Pave | NA | Reg | Lvl | AllPub | Inside | ⋯ | 0 | NA | NA    | NA   |   0 |  2 | 2008 | WD | Normal  | 208500 |\n",
       "| 2 | 20 | RL | 80 |  9600 | Pave | NA | Reg | Lvl | AllPub | FR2    | ⋯ | 0 | NA | NA    | NA   |   0 |  5 | 2007 | WD | Normal  | 181500 |\n",
       "| 3 | 60 | RL | 68 | 11250 | Pave | NA | IR1 | Lvl | AllPub | Inside | ⋯ | 0 | NA | NA    | NA   |   0 |  9 | 2008 | WD | Normal  | 223500 |\n",
       "| 4 | 70 | RL | 60 |  9550 | Pave | NA | IR1 | Lvl | AllPub | Corner | ⋯ | 0 | NA | NA    | NA   |   0 |  2 | 2006 | WD | Abnorml | 140000 |\n",
       "| 5 | 60 | RL | 84 | 14260 | Pave | NA | IR1 | Lvl | AllPub | FR2    | ⋯ | 0 | NA | NA    | NA   |   0 | 12 | 2008 | WD | Normal  | 250000 |\n",
       "| 6 | 50 | RL | 85 | 14115 | Pave | NA | IR1 | Lvl | AllPub | Inside | ⋯ | 0 | NA | MnPrv | Shed | 700 | 10 | 2009 | WD | Normal  | 143000 |\n",
       "\n"
      ],
      "text/plain": [
       "  MSSubClass MSZoning LotFrontage LotArea Street Alley LotShape LandContour\n",
       "1 60         RL       65           8450   Pave   NA    Reg      Lvl        \n",
       "2 20         RL       80           9600   Pave   NA    Reg      Lvl        \n",
       "3 60         RL       68          11250   Pave   NA    IR1      Lvl        \n",
       "4 70         RL       60           9550   Pave   NA    IR1      Lvl        \n",
       "5 60         RL       84          14260   Pave   NA    IR1      Lvl        \n",
       "6 50         RL       85          14115   Pave   NA    IR1      Lvl        \n",
       "  Utilities LotConfig ⋯ PoolArea PoolQC Fence MiscFeature MiscVal MoSold YrSold\n",
       "1 AllPub    Inside    ⋯ 0        NA     NA    NA            0      2     2008  \n",
       "2 AllPub    FR2       ⋯ 0        NA     NA    NA            0      5     2007  \n",
       "3 AllPub    Inside    ⋯ 0        NA     NA    NA            0      9     2008  \n",
       "4 AllPub    Corner    ⋯ 0        NA     NA    NA            0      2     2006  \n",
       "5 AllPub    FR2       ⋯ 0        NA     NA    NA            0     12     2008  \n",
       "6 AllPub    Inside    ⋯ 0        NA     MnPrv Shed        700     10     2009  \n",
       "  SaleType SaleCondition SalePrice\n",
       "1 WD       Normal        208500   \n",
       "2 WD       Normal        181500   \n",
       "3 WD       Normal        223500   \n",
       "4 WD       Abnorml       140000   \n",
       "5 WD       Normal        250000   \n",
       "6 WD       Normal        143000   "
      ]
     },
     "metadata": {},
     "output_type": "display_data"
    }
   ],
   "source": [
    "a %>%\r\n",
    "select(-Id) %>%\r\n",
    "head()"
   ]
  },
  {
   "cell_type": "code",
   "execution_count": 54,
   "metadata": {
    "gather": {
     "logged": 1661621592405
    },
    "jupyter": {
     "outputs_hidden": false,
     "source_hidden": false
    },
    "nteract": {
     "transient": {
      "deleting": false
     }
    }
   },
   "outputs": [
    {
     "data": {
      "text/html": [
       "<table class=\"dataframe\">\n",
       "<caption>A data.frame: 1460 × 81</caption>\n",
       "<thead>\n",
       "\t<tr><th scope=col>id</th><th scope=col>ms_sub_class</th><th scope=col>ms_zoning</th><th scope=col>lot_frontage</th><th scope=col>lot_area</th><th scope=col>street</th><th scope=col>alley</th><th scope=col>lot_shape</th><th scope=col>land_contour</th><th scope=col>utilities</th><th scope=col>⋯</th><th scope=col>pool_area</th><th scope=col>pool_qc</th><th scope=col>fence</th><th scope=col>misc_feature</th><th scope=col>misc_val</th><th scope=col>mo_sold</th><th scope=col>yr_sold</th><th scope=col>sale_type</th><th scope=col>sale_condition</th><th scope=col>sale_price</th></tr>\n",
       "\t<tr><th scope=col>&lt;int&gt;</th><th scope=col>&lt;int&gt;</th><th scope=col>&lt;chr&gt;</th><th scope=col>&lt;int&gt;</th><th scope=col>&lt;int&gt;</th><th scope=col>&lt;chr&gt;</th><th scope=col>&lt;chr&gt;</th><th scope=col>&lt;chr&gt;</th><th scope=col>&lt;chr&gt;</th><th scope=col>&lt;chr&gt;</th><th scope=col>⋯</th><th scope=col>&lt;int&gt;</th><th scope=col>&lt;chr&gt;</th><th scope=col>&lt;chr&gt;</th><th scope=col>&lt;chr&gt;</th><th scope=col>&lt;int&gt;</th><th scope=col>&lt;int&gt;</th><th scope=col>&lt;int&gt;</th><th scope=col>&lt;chr&gt;</th><th scope=col>&lt;chr&gt;</th><th scope=col>&lt;int&gt;</th></tr>\n",
       "</thead>\n",
       "<tbody>\n",
       "\t<tr><td> 1</td><td> 60</td><td>RL</td><td> 65</td><td> 8450</td><td>Pave</td><td>NA  </td><td>Reg</td><td>Lvl</td><td>AllPub</td><td>⋯</td><td>0</td><td>NA</td><td>NA   </td><td>NA  </td><td>  0</td><td> 2</td><td>2008</td><td>WD </td><td>Normal </td><td>208500</td></tr>\n",
       "\t<tr><td> 2</td><td> 20</td><td>RL</td><td> 80</td><td> 9600</td><td>Pave</td><td>NA  </td><td>Reg</td><td>Lvl</td><td>AllPub</td><td>⋯</td><td>0</td><td>NA</td><td>NA   </td><td>NA  </td><td>  0</td><td> 5</td><td>2007</td><td>WD </td><td>Normal </td><td>181500</td></tr>\n",
       "\t<tr><td> 3</td><td> 60</td><td>RL</td><td> 68</td><td>11250</td><td>Pave</td><td>NA  </td><td>IR1</td><td>Lvl</td><td>AllPub</td><td>⋯</td><td>0</td><td>NA</td><td>NA   </td><td>NA  </td><td>  0</td><td> 9</td><td>2008</td><td>WD </td><td>Normal </td><td>223500</td></tr>\n",
       "\t<tr><td> 4</td><td> 70</td><td>RL</td><td> 60</td><td> 9550</td><td>Pave</td><td>NA  </td><td>IR1</td><td>Lvl</td><td>AllPub</td><td>⋯</td><td>0</td><td>NA</td><td>NA   </td><td>NA  </td><td>  0</td><td> 2</td><td>2006</td><td>WD </td><td>Abnorml</td><td>140000</td></tr>\n",
       "\t<tr><td> 5</td><td> 60</td><td>RL</td><td> 84</td><td>14260</td><td>Pave</td><td>NA  </td><td>IR1</td><td>Lvl</td><td>AllPub</td><td>⋯</td><td>0</td><td>NA</td><td>NA   </td><td>NA  </td><td>  0</td><td>12</td><td>2008</td><td>WD </td><td>Normal </td><td>250000</td></tr>\n",
       "\t<tr><td> 6</td><td> 50</td><td>RL</td><td> 85</td><td>14115</td><td>Pave</td><td>NA  </td><td>IR1</td><td>Lvl</td><td>AllPub</td><td>⋯</td><td>0</td><td>NA</td><td>MnPrv</td><td>Shed</td><td>700</td><td>10</td><td>2009</td><td>WD </td><td>Normal </td><td>143000</td></tr>\n",
       "\t<tr><td> 7</td><td> 20</td><td>RL</td><td> 75</td><td>10084</td><td>Pave</td><td>NA  </td><td>Reg</td><td>Lvl</td><td>AllPub</td><td>⋯</td><td>0</td><td>NA</td><td>NA   </td><td>NA  </td><td>  0</td><td> 8</td><td>2007</td><td>WD </td><td>Normal </td><td>307000</td></tr>\n",
       "\t<tr><td> 8</td><td> 60</td><td>RL</td><td> NA</td><td>10382</td><td>Pave</td><td>NA  </td><td>IR1</td><td>Lvl</td><td>AllPub</td><td>⋯</td><td>0</td><td>NA</td><td>NA   </td><td>Shed</td><td>350</td><td>11</td><td>2009</td><td>WD </td><td>Normal </td><td>200000</td></tr>\n",
       "\t<tr><td> 9</td><td> 50</td><td>RM</td><td> 51</td><td> 6120</td><td>Pave</td><td>NA  </td><td>Reg</td><td>Lvl</td><td>AllPub</td><td>⋯</td><td>0</td><td>NA</td><td>NA   </td><td>NA  </td><td>  0</td><td> 4</td><td>2008</td><td>WD </td><td>Abnorml</td><td>129900</td></tr>\n",
       "\t<tr><td>10</td><td>190</td><td>RL</td><td> 50</td><td> 7420</td><td>Pave</td><td>NA  </td><td>Reg</td><td>Lvl</td><td>AllPub</td><td>⋯</td><td>0</td><td>NA</td><td>NA   </td><td>NA  </td><td>  0</td><td> 1</td><td>2008</td><td>WD </td><td>Normal </td><td>118000</td></tr>\n",
       "\t<tr><td>11</td><td> 20</td><td>RL</td><td> 70</td><td>11200</td><td>Pave</td><td>NA  </td><td>Reg</td><td>Lvl</td><td>AllPub</td><td>⋯</td><td>0</td><td>NA</td><td>NA   </td><td>NA  </td><td>  0</td><td> 2</td><td>2008</td><td>WD </td><td>Normal </td><td>129500</td></tr>\n",
       "\t<tr><td>12</td><td> 60</td><td>RL</td><td> 85</td><td>11924</td><td>Pave</td><td>NA  </td><td>IR1</td><td>Lvl</td><td>AllPub</td><td>⋯</td><td>0</td><td>NA</td><td>NA   </td><td>NA  </td><td>  0</td><td> 7</td><td>2006</td><td>New</td><td>Partial</td><td>345000</td></tr>\n",
       "\t<tr><td>13</td><td> 20</td><td>RL</td><td> NA</td><td>12968</td><td>Pave</td><td>NA  </td><td>IR2</td><td>Lvl</td><td>AllPub</td><td>⋯</td><td>0</td><td>NA</td><td>NA   </td><td>NA  </td><td>  0</td><td> 9</td><td>2008</td><td>WD </td><td>Normal </td><td>144000</td></tr>\n",
       "\t<tr><td>14</td><td> 20</td><td>RL</td><td> 91</td><td>10652</td><td>Pave</td><td>NA  </td><td>IR1</td><td>Lvl</td><td>AllPub</td><td>⋯</td><td>0</td><td>NA</td><td>NA   </td><td>NA  </td><td>  0</td><td> 8</td><td>2007</td><td>New</td><td>Partial</td><td>279500</td></tr>\n",
       "\t<tr><td>15</td><td> 20</td><td>RL</td><td> NA</td><td>10920</td><td>Pave</td><td>NA  </td><td>IR1</td><td>Lvl</td><td>AllPub</td><td>⋯</td><td>0</td><td>NA</td><td>GdWo </td><td>NA  </td><td>  0</td><td> 5</td><td>2008</td><td>WD </td><td>Normal </td><td>157000</td></tr>\n",
       "\t<tr><td>16</td><td> 45</td><td>RM</td><td> 51</td><td> 6120</td><td>Pave</td><td>NA  </td><td>Reg</td><td>Lvl</td><td>AllPub</td><td>⋯</td><td>0</td><td>NA</td><td>GdPrv</td><td>NA  </td><td>  0</td><td> 7</td><td>2007</td><td>WD </td><td>Normal </td><td>132000</td></tr>\n",
       "\t<tr><td>17</td><td> 20</td><td>RL</td><td> NA</td><td>11241</td><td>Pave</td><td>NA  </td><td>IR1</td><td>Lvl</td><td>AllPub</td><td>⋯</td><td>0</td><td>NA</td><td>NA   </td><td>Shed</td><td>700</td><td> 3</td><td>2010</td><td>WD </td><td>Normal </td><td>149000</td></tr>\n",
       "\t<tr><td>18</td><td> 90</td><td>RL</td><td> 72</td><td>10791</td><td>Pave</td><td>NA  </td><td>Reg</td><td>Lvl</td><td>AllPub</td><td>⋯</td><td>0</td><td>NA</td><td>NA   </td><td>Shed</td><td>500</td><td>10</td><td>2006</td><td>WD </td><td>Normal </td><td> 90000</td></tr>\n",
       "\t<tr><td>19</td><td> 20</td><td>RL</td><td> 66</td><td>13695</td><td>Pave</td><td>NA  </td><td>Reg</td><td>Lvl</td><td>AllPub</td><td>⋯</td><td>0</td><td>NA</td><td>NA   </td><td>NA  </td><td>  0</td><td> 6</td><td>2008</td><td>WD </td><td>Normal </td><td>159000</td></tr>\n",
       "\t<tr><td>20</td><td> 20</td><td>RL</td><td> 70</td><td> 7560</td><td>Pave</td><td>NA  </td><td>Reg</td><td>Lvl</td><td>AllPub</td><td>⋯</td><td>0</td><td>NA</td><td>MnPrv</td><td>NA  </td><td>  0</td><td> 5</td><td>2009</td><td>COD</td><td>Abnorml</td><td>139000</td></tr>\n",
       "\t<tr><td>21</td><td> 60</td><td>RL</td><td>101</td><td>14215</td><td>Pave</td><td>NA  </td><td>IR1</td><td>Lvl</td><td>AllPub</td><td>⋯</td><td>0</td><td>NA</td><td>NA   </td><td>NA  </td><td>  0</td><td>11</td><td>2006</td><td>New</td><td>Partial</td><td>325300</td></tr>\n",
       "\t<tr><td>22</td><td> 45</td><td>RM</td><td> 57</td><td> 7449</td><td>Pave</td><td>Grvl</td><td>Reg</td><td>Bnk</td><td>AllPub</td><td>⋯</td><td>0</td><td>NA</td><td>GdPrv</td><td>NA  </td><td>  0</td><td> 6</td><td>2007</td><td>WD </td><td>Normal </td><td>139400</td></tr>\n",
       "\t<tr><td>23</td><td> 20</td><td>RL</td><td> 75</td><td> 9742</td><td>Pave</td><td>NA  </td><td>Reg</td><td>Lvl</td><td>AllPub</td><td>⋯</td><td>0</td><td>NA</td><td>NA   </td><td>NA  </td><td>  0</td><td> 9</td><td>2008</td><td>WD </td><td>Normal </td><td>230000</td></tr>\n",
       "\t<tr><td>24</td><td>120</td><td>RM</td><td> 44</td><td> 4224</td><td>Pave</td><td>NA  </td><td>Reg</td><td>Lvl</td><td>AllPub</td><td>⋯</td><td>0</td><td>NA</td><td>NA   </td><td>NA  </td><td>  0</td><td> 6</td><td>2007</td><td>WD </td><td>Normal </td><td>129900</td></tr>\n",
       "\t<tr><td>25</td><td> 20</td><td>RL</td><td> NA</td><td> 8246</td><td>Pave</td><td>NA  </td><td>IR1</td><td>Lvl</td><td>AllPub</td><td>⋯</td><td>0</td><td>NA</td><td>MnPrv</td><td>NA  </td><td>  0</td><td> 5</td><td>2010</td><td>WD </td><td>Normal </td><td>154000</td></tr>\n",
       "\t<tr><td>26</td><td> 20</td><td>RL</td><td>110</td><td>14230</td><td>Pave</td><td>NA  </td><td>Reg</td><td>Lvl</td><td>AllPub</td><td>⋯</td><td>0</td><td>NA</td><td>NA   </td><td>NA  </td><td>  0</td><td> 7</td><td>2009</td><td>WD </td><td>Normal </td><td>256300</td></tr>\n",
       "\t<tr><td>27</td><td> 20</td><td>RL</td><td> 60</td><td> 7200</td><td>Pave</td><td>NA  </td><td>Reg</td><td>Lvl</td><td>AllPub</td><td>⋯</td><td>0</td><td>NA</td><td>NA   </td><td>NA  </td><td>  0</td><td> 5</td><td>2010</td><td>WD </td><td>Normal </td><td>134800</td></tr>\n",
       "\t<tr><td>28</td><td> 20</td><td>RL</td><td> 98</td><td>11478</td><td>Pave</td><td>NA  </td><td>Reg</td><td>Lvl</td><td>AllPub</td><td>⋯</td><td>0</td><td>NA</td><td>NA   </td><td>NA  </td><td>  0</td><td> 5</td><td>2010</td><td>WD </td><td>Normal </td><td>306000</td></tr>\n",
       "\t<tr><td>29</td><td> 20</td><td>RL</td><td> 47</td><td>16321</td><td>Pave</td><td>NA  </td><td>IR1</td><td>Lvl</td><td>AllPub</td><td>⋯</td><td>0</td><td>NA</td><td>NA   </td><td>NA  </td><td>  0</td><td>12</td><td>2006</td><td>WD </td><td>Normal </td><td>207500</td></tr>\n",
       "\t<tr><td>30</td><td> 30</td><td>RM</td><td> 60</td><td> 6324</td><td>Pave</td><td>NA  </td><td>IR1</td><td>Lvl</td><td>AllPub</td><td>⋯</td><td>0</td><td>NA</td><td>NA   </td><td>NA  </td><td>  0</td><td> 5</td><td>2008</td><td>WD </td><td>Normal </td><td> 68500</td></tr>\n",
       "\t<tr><td>⋮</td><td>⋮</td><td>⋮</td><td>⋮</td><td>⋮</td><td>⋮</td><td>⋮</td><td>⋮</td><td>⋮</td><td>⋮</td><td>⋱</td><td>⋮</td><td>⋮</td><td>⋮</td><td>⋮</td><td>⋮</td><td>⋮</td><td>⋮</td><td>⋮</td><td>⋮</td><td>⋮</td></tr>\n",
       "\t<tr><td>1431</td><td> 60</td><td>RL</td><td>60</td><td>21930</td><td>Pave</td><td>NA  </td><td>IR3</td><td>Lvl</td><td>AllPub</td><td>⋯</td><td>0</td><td>NA</td><td>NA   </td><td>NA  </td><td>   0</td><td> 7</td><td>2006</td><td>WD </td><td>Normal </td><td>192140</td></tr>\n",
       "\t<tr><td>1432</td><td>120</td><td>RL</td><td>NA</td><td> 4928</td><td>Pave</td><td>NA  </td><td>IR1</td><td>Lvl</td><td>AllPub</td><td>⋯</td><td>0</td><td>NA</td><td>NA   </td><td>NA  </td><td>   0</td><td>10</td><td>2009</td><td>WD </td><td>Normal </td><td>143750</td></tr>\n",
       "\t<tr><td>1433</td><td> 30</td><td>RL</td><td>60</td><td>10800</td><td>Pave</td><td>Grvl</td><td>Reg</td><td>Lvl</td><td>AllPub</td><td>⋯</td><td>0</td><td>NA</td><td>NA   </td><td>NA  </td><td>   0</td><td> 8</td><td>2007</td><td>WD </td><td>Normal </td><td> 64500</td></tr>\n",
       "\t<tr><td>1434</td><td> 60</td><td>RL</td><td>93</td><td>10261</td><td>Pave</td><td>NA  </td><td>IR1</td><td>Lvl</td><td>AllPub</td><td>⋯</td><td>0</td><td>NA</td><td>NA   </td><td>NA  </td><td>   0</td><td> 5</td><td>2008</td><td>WD </td><td>Normal </td><td>186500</td></tr>\n",
       "\t<tr><td>1435</td><td> 20</td><td>RL</td><td>80</td><td>17400</td><td>Pave</td><td>NA  </td><td>Reg</td><td>Low</td><td>AllPub</td><td>⋯</td><td>0</td><td>NA</td><td>NA   </td><td>NA  </td><td>   0</td><td> 5</td><td>2006</td><td>WD </td><td>Normal </td><td>160000</td></tr>\n",
       "\t<tr><td>1436</td><td> 20</td><td>RL</td><td>80</td><td> 8400</td><td>Pave</td><td>NA  </td><td>Reg</td><td>Lvl</td><td>AllPub</td><td>⋯</td><td>0</td><td>NA</td><td>GdPrv</td><td>NA  </td><td>   0</td><td> 7</td><td>2008</td><td>COD</td><td>Abnorml</td><td>174000</td></tr>\n",
       "\t<tr><td>1437</td><td> 20</td><td>RL</td><td>60</td><td> 9000</td><td>Pave</td><td>NA  </td><td>Reg</td><td>Lvl</td><td>AllPub</td><td>⋯</td><td>0</td><td>NA</td><td>GdWo </td><td>NA  </td><td>   0</td><td> 5</td><td>2007</td><td>WD </td><td>Normal </td><td>120500</td></tr>\n",
       "\t<tr><td>1438</td><td> 20</td><td>RL</td><td>96</td><td>12444</td><td>Pave</td><td>NA  </td><td>Reg</td><td>Lvl</td><td>AllPub</td><td>⋯</td><td>0</td><td>NA</td><td>NA   </td><td>NA  </td><td>   0</td><td>11</td><td>2008</td><td>New</td><td>Partial</td><td>394617</td></tr>\n",
       "\t<tr><td>1439</td><td> 20</td><td>RM</td><td>90</td><td> 7407</td><td>Pave</td><td>NA  </td><td>Reg</td><td>Lvl</td><td>AllPub</td><td>⋯</td><td>0</td><td>NA</td><td>MnPrv</td><td>NA  </td><td>   0</td><td> 4</td><td>2010</td><td>WD </td><td>Normal </td><td>149700</td></tr>\n",
       "\t<tr><td>1440</td><td> 60</td><td>RL</td><td>80</td><td>11584</td><td>Pave</td><td>NA  </td><td>Reg</td><td>Lvl</td><td>AllPub</td><td>⋯</td><td>0</td><td>NA</td><td>NA   </td><td>NA  </td><td>   0</td><td>11</td><td>2007</td><td>WD </td><td>Normal </td><td>197000</td></tr>\n",
       "\t<tr><td>1441</td><td> 70</td><td>RL</td><td>79</td><td>11526</td><td>Pave</td><td>NA  </td><td>IR1</td><td>Bnk</td><td>AllPub</td><td>⋯</td><td>0</td><td>NA</td><td>NA   </td><td>NA  </td><td>   0</td><td> 9</td><td>2008</td><td>WD </td><td>Normal </td><td>191000</td></tr>\n",
       "\t<tr><td>1442</td><td>120</td><td>RM</td><td>NA</td><td> 4426</td><td>Pave</td><td>NA  </td><td>Reg</td><td>Lvl</td><td>AllPub</td><td>⋯</td><td>0</td><td>NA</td><td>NA   </td><td>NA  </td><td>   0</td><td> 5</td><td>2008</td><td>WD </td><td>Normal </td><td>149300</td></tr>\n",
       "\t<tr><td>1443</td><td> 60</td><td>FV</td><td>85</td><td>11003</td><td>Pave</td><td>NA  </td><td>Reg</td><td>Lvl</td><td>AllPub</td><td>⋯</td><td>0</td><td>NA</td><td>NA   </td><td>NA  </td><td>   0</td><td> 4</td><td>2009</td><td>WD </td><td>Normal </td><td>310000</td></tr>\n",
       "\t<tr><td>1444</td><td> 30</td><td>RL</td><td>NA</td><td> 8854</td><td>Pave</td><td>NA  </td><td>Reg</td><td>Lvl</td><td>AllPub</td><td>⋯</td><td>0</td><td>NA</td><td>NA   </td><td>NA  </td><td>   0</td><td> 5</td><td>2009</td><td>WD </td><td>Normal </td><td>121000</td></tr>\n",
       "\t<tr><td>1445</td><td> 20</td><td>RL</td><td>63</td><td> 8500</td><td>Pave</td><td>NA  </td><td>Reg</td><td>Lvl</td><td>AllPub</td><td>⋯</td><td>0</td><td>NA</td><td>NA   </td><td>NA  </td><td>   0</td><td>11</td><td>2007</td><td>WD </td><td>Normal </td><td>179600</td></tr>\n",
       "\t<tr><td>1446</td><td> 85</td><td>RL</td><td>70</td><td> 8400</td><td>Pave</td><td>NA  </td><td>Reg</td><td>Lvl</td><td>AllPub</td><td>⋯</td><td>0</td><td>NA</td><td>NA   </td><td>NA  </td><td>   0</td><td> 5</td><td>2007</td><td>WD </td><td>Normal </td><td>129000</td></tr>\n",
       "\t<tr><td>1447</td><td> 20</td><td>RL</td><td>NA</td><td>26142</td><td>Pave</td><td>NA  </td><td>IR1</td><td>Lvl</td><td>AllPub</td><td>⋯</td><td>0</td><td>NA</td><td>NA   </td><td>NA  </td><td>   0</td><td> 4</td><td>2010</td><td>WD </td><td>Normal </td><td>157900</td></tr>\n",
       "\t<tr><td>1448</td><td> 60</td><td>RL</td><td>80</td><td>10000</td><td>Pave</td><td>NA  </td><td>Reg</td><td>Lvl</td><td>AllPub</td><td>⋯</td><td>0</td><td>NA</td><td>NA   </td><td>NA  </td><td>   0</td><td>12</td><td>2007</td><td>WD </td><td>Normal </td><td>240000</td></tr>\n",
       "\t<tr><td>1449</td><td> 50</td><td>RL</td><td>70</td><td>11767</td><td>Pave</td><td>NA  </td><td>Reg</td><td>Lvl</td><td>AllPub</td><td>⋯</td><td>0</td><td>NA</td><td>GdWo </td><td>NA  </td><td>   0</td><td> 5</td><td>2007</td><td>WD </td><td>Normal </td><td>112000</td></tr>\n",
       "\t<tr><td>1450</td><td>180</td><td>RM</td><td>21</td><td> 1533</td><td>Pave</td><td>NA  </td><td>Reg</td><td>Lvl</td><td>AllPub</td><td>⋯</td><td>0</td><td>NA</td><td>NA   </td><td>NA  </td><td>   0</td><td> 8</td><td>2006</td><td>WD </td><td>Abnorml</td><td> 92000</td></tr>\n",
       "\t<tr><td>1451</td><td> 90</td><td>RL</td><td>60</td><td> 9000</td><td>Pave</td><td>NA  </td><td>Reg</td><td>Lvl</td><td>AllPub</td><td>⋯</td><td>0</td><td>NA</td><td>NA   </td><td>NA  </td><td>   0</td><td> 9</td><td>2009</td><td>WD </td><td>Normal </td><td>136000</td></tr>\n",
       "\t<tr><td>1452</td><td> 20</td><td>RL</td><td>78</td><td> 9262</td><td>Pave</td><td>NA  </td><td>Reg</td><td>Lvl</td><td>AllPub</td><td>⋯</td><td>0</td><td>NA</td><td>NA   </td><td>NA  </td><td>   0</td><td> 5</td><td>2009</td><td>New</td><td>Partial</td><td>287090</td></tr>\n",
       "\t<tr><td>1453</td><td>180</td><td>RM</td><td>35</td><td> 3675</td><td>Pave</td><td>NA  </td><td>Reg</td><td>Lvl</td><td>AllPub</td><td>⋯</td><td>0</td><td>NA</td><td>NA   </td><td>NA  </td><td>   0</td><td> 5</td><td>2006</td><td>WD </td><td>Normal </td><td>145000</td></tr>\n",
       "\t<tr><td>1454</td><td> 20</td><td>RL</td><td>90</td><td>17217</td><td>Pave</td><td>NA  </td><td>Reg</td><td>Lvl</td><td>AllPub</td><td>⋯</td><td>0</td><td>NA</td><td>NA   </td><td>NA  </td><td>   0</td><td> 7</td><td>2006</td><td>WD </td><td>Abnorml</td><td> 84500</td></tr>\n",
       "\t<tr><td>1455</td><td> 20</td><td>FV</td><td>62</td><td> 7500</td><td>Pave</td><td>Pave</td><td>Reg</td><td>Lvl</td><td>AllPub</td><td>⋯</td><td>0</td><td>NA</td><td>NA   </td><td>NA  </td><td>   0</td><td>10</td><td>2009</td><td>WD </td><td>Normal </td><td>185000</td></tr>\n",
       "\t<tr><td>1456</td><td> 60</td><td>RL</td><td>62</td><td> 7917</td><td>Pave</td><td>NA  </td><td>Reg</td><td>Lvl</td><td>AllPub</td><td>⋯</td><td>0</td><td>NA</td><td>NA   </td><td>NA  </td><td>   0</td><td> 8</td><td>2007</td><td>WD </td><td>Normal </td><td>175000</td></tr>\n",
       "\t<tr><td>1457</td><td> 20</td><td>RL</td><td>85</td><td>13175</td><td>Pave</td><td>NA  </td><td>Reg</td><td>Lvl</td><td>AllPub</td><td>⋯</td><td>0</td><td>NA</td><td>MnPrv</td><td>NA  </td><td>   0</td><td> 2</td><td>2010</td><td>WD </td><td>Normal </td><td>210000</td></tr>\n",
       "\t<tr><td>1458</td><td> 70</td><td>RL</td><td>66</td><td> 9042</td><td>Pave</td><td>NA  </td><td>Reg</td><td>Lvl</td><td>AllPub</td><td>⋯</td><td>0</td><td>NA</td><td>GdPrv</td><td>Shed</td><td>2500</td><td> 5</td><td>2010</td><td>WD </td><td>Normal </td><td>266500</td></tr>\n",
       "\t<tr><td>1459</td><td> 20</td><td>RL</td><td>68</td><td> 9717</td><td>Pave</td><td>NA  </td><td>Reg</td><td>Lvl</td><td>AllPub</td><td>⋯</td><td>0</td><td>NA</td><td>NA   </td><td>NA  </td><td>   0</td><td> 4</td><td>2010</td><td>WD </td><td>Normal </td><td>142125</td></tr>\n",
       "\t<tr><td>1460</td><td> 20</td><td>RL</td><td>75</td><td> 9937</td><td>Pave</td><td>NA  </td><td>Reg</td><td>Lvl</td><td>AllPub</td><td>⋯</td><td>0</td><td>NA</td><td>NA   </td><td>NA  </td><td>   0</td><td> 6</td><td>2008</td><td>WD </td><td>Normal </td><td>147500</td></tr>\n",
       "</tbody>\n",
       "</table>\n"
      ],
      "text/latex": [
       "A data.frame: 1460 × 81\n",
       "\\begin{tabular}{lllllllllllllllllllll}\n",
       " id & ms\\_sub\\_class & ms\\_zoning & lot\\_frontage & lot\\_area & street & alley & lot\\_shape & land\\_contour & utilities & ⋯ & pool\\_area & pool\\_qc & fence & misc\\_feature & misc\\_val & mo\\_sold & yr\\_sold & sale\\_type & sale\\_condition & sale\\_price\\\\\n",
       " <int> & <int> & <chr> & <int> & <int> & <chr> & <chr> & <chr> & <chr> & <chr> & ⋯ & <int> & <chr> & <chr> & <chr> & <int> & <int> & <int> & <chr> & <chr> & <int>\\\\\n",
       "\\hline\n",
       "\t  1 &  60 & RL &  65 &  8450 & Pave & NA   & Reg & Lvl & AllPub & ⋯ & 0 & NA & NA    & NA   &   0 &  2 & 2008 & WD  & Normal  & 208500\\\\\n",
       "\t  2 &  20 & RL &  80 &  9600 & Pave & NA   & Reg & Lvl & AllPub & ⋯ & 0 & NA & NA    & NA   &   0 &  5 & 2007 & WD  & Normal  & 181500\\\\\n",
       "\t  3 &  60 & RL &  68 & 11250 & Pave & NA   & IR1 & Lvl & AllPub & ⋯ & 0 & NA & NA    & NA   &   0 &  9 & 2008 & WD  & Normal  & 223500\\\\\n",
       "\t  4 &  70 & RL &  60 &  9550 & Pave & NA   & IR1 & Lvl & AllPub & ⋯ & 0 & NA & NA    & NA   &   0 &  2 & 2006 & WD  & Abnorml & 140000\\\\\n",
       "\t  5 &  60 & RL &  84 & 14260 & Pave & NA   & IR1 & Lvl & AllPub & ⋯ & 0 & NA & NA    & NA   &   0 & 12 & 2008 & WD  & Normal  & 250000\\\\\n",
       "\t  6 &  50 & RL &  85 & 14115 & Pave & NA   & IR1 & Lvl & AllPub & ⋯ & 0 & NA & MnPrv & Shed & 700 & 10 & 2009 & WD  & Normal  & 143000\\\\\n",
       "\t  7 &  20 & RL &  75 & 10084 & Pave & NA   & Reg & Lvl & AllPub & ⋯ & 0 & NA & NA    & NA   &   0 &  8 & 2007 & WD  & Normal  & 307000\\\\\n",
       "\t  8 &  60 & RL &  NA & 10382 & Pave & NA   & IR1 & Lvl & AllPub & ⋯ & 0 & NA & NA    & Shed & 350 & 11 & 2009 & WD  & Normal  & 200000\\\\\n",
       "\t  9 &  50 & RM &  51 &  6120 & Pave & NA   & Reg & Lvl & AllPub & ⋯ & 0 & NA & NA    & NA   &   0 &  4 & 2008 & WD  & Abnorml & 129900\\\\\n",
       "\t 10 & 190 & RL &  50 &  7420 & Pave & NA   & Reg & Lvl & AllPub & ⋯ & 0 & NA & NA    & NA   &   0 &  1 & 2008 & WD  & Normal  & 118000\\\\\n",
       "\t 11 &  20 & RL &  70 & 11200 & Pave & NA   & Reg & Lvl & AllPub & ⋯ & 0 & NA & NA    & NA   &   0 &  2 & 2008 & WD  & Normal  & 129500\\\\\n",
       "\t 12 &  60 & RL &  85 & 11924 & Pave & NA   & IR1 & Lvl & AllPub & ⋯ & 0 & NA & NA    & NA   &   0 &  7 & 2006 & New & Partial & 345000\\\\\n",
       "\t 13 &  20 & RL &  NA & 12968 & Pave & NA   & IR2 & Lvl & AllPub & ⋯ & 0 & NA & NA    & NA   &   0 &  9 & 2008 & WD  & Normal  & 144000\\\\\n",
       "\t 14 &  20 & RL &  91 & 10652 & Pave & NA   & IR1 & Lvl & AllPub & ⋯ & 0 & NA & NA    & NA   &   0 &  8 & 2007 & New & Partial & 279500\\\\\n",
       "\t 15 &  20 & RL &  NA & 10920 & Pave & NA   & IR1 & Lvl & AllPub & ⋯ & 0 & NA & GdWo  & NA   &   0 &  5 & 2008 & WD  & Normal  & 157000\\\\\n",
       "\t 16 &  45 & RM &  51 &  6120 & Pave & NA   & Reg & Lvl & AllPub & ⋯ & 0 & NA & GdPrv & NA   &   0 &  7 & 2007 & WD  & Normal  & 132000\\\\\n",
       "\t 17 &  20 & RL &  NA & 11241 & Pave & NA   & IR1 & Lvl & AllPub & ⋯ & 0 & NA & NA    & Shed & 700 &  3 & 2010 & WD  & Normal  & 149000\\\\\n",
       "\t 18 &  90 & RL &  72 & 10791 & Pave & NA   & Reg & Lvl & AllPub & ⋯ & 0 & NA & NA    & Shed & 500 & 10 & 2006 & WD  & Normal  &  90000\\\\\n",
       "\t 19 &  20 & RL &  66 & 13695 & Pave & NA   & Reg & Lvl & AllPub & ⋯ & 0 & NA & NA    & NA   &   0 &  6 & 2008 & WD  & Normal  & 159000\\\\\n",
       "\t 20 &  20 & RL &  70 &  7560 & Pave & NA   & Reg & Lvl & AllPub & ⋯ & 0 & NA & MnPrv & NA   &   0 &  5 & 2009 & COD & Abnorml & 139000\\\\\n",
       "\t 21 &  60 & RL & 101 & 14215 & Pave & NA   & IR1 & Lvl & AllPub & ⋯ & 0 & NA & NA    & NA   &   0 & 11 & 2006 & New & Partial & 325300\\\\\n",
       "\t 22 &  45 & RM &  57 &  7449 & Pave & Grvl & Reg & Bnk & AllPub & ⋯ & 0 & NA & GdPrv & NA   &   0 &  6 & 2007 & WD  & Normal  & 139400\\\\\n",
       "\t 23 &  20 & RL &  75 &  9742 & Pave & NA   & Reg & Lvl & AllPub & ⋯ & 0 & NA & NA    & NA   &   0 &  9 & 2008 & WD  & Normal  & 230000\\\\\n",
       "\t 24 & 120 & RM &  44 &  4224 & Pave & NA   & Reg & Lvl & AllPub & ⋯ & 0 & NA & NA    & NA   &   0 &  6 & 2007 & WD  & Normal  & 129900\\\\\n",
       "\t 25 &  20 & RL &  NA &  8246 & Pave & NA   & IR1 & Lvl & AllPub & ⋯ & 0 & NA & MnPrv & NA   &   0 &  5 & 2010 & WD  & Normal  & 154000\\\\\n",
       "\t 26 &  20 & RL & 110 & 14230 & Pave & NA   & Reg & Lvl & AllPub & ⋯ & 0 & NA & NA    & NA   &   0 &  7 & 2009 & WD  & Normal  & 256300\\\\\n",
       "\t 27 &  20 & RL &  60 &  7200 & Pave & NA   & Reg & Lvl & AllPub & ⋯ & 0 & NA & NA    & NA   &   0 &  5 & 2010 & WD  & Normal  & 134800\\\\\n",
       "\t 28 &  20 & RL &  98 & 11478 & Pave & NA   & Reg & Lvl & AllPub & ⋯ & 0 & NA & NA    & NA   &   0 &  5 & 2010 & WD  & Normal  & 306000\\\\\n",
       "\t 29 &  20 & RL &  47 & 16321 & Pave & NA   & IR1 & Lvl & AllPub & ⋯ & 0 & NA & NA    & NA   &   0 & 12 & 2006 & WD  & Normal  & 207500\\\\\n",
       "\t 30 &  30 & RM &  60 &  6324 & Pave & NA   & IR1 & Lvl & AllPub & ⋯ & 0 & NA & NA    & NA   &   0 &  5 & 2008 & WD  & Normal  &  68500\\\\\n",
       "\t ⋮ & ⋮ & ⋮ & ⋮ & ⋮ & ⋮ & ⋮ & ⋮ & ⋮ & ⋮ & ⋱ & ⋮ & ⋮ & ⋮ & ⋮ & ⋮ & ⋮ & ⋮ & ⋮ & ⋮ & ⋮\\\\\n",
       "\t 1431 &  60 & RL & 60 & 21930 & Pave & NA   & IR3 & Lvl & AllPub & ⋯ & 0 & NA & NA    & NA   &    0 &  7 & 2006 & WD  & Normal  & 192140\\\\\n",
       "\t 1432 & 120 & RL & NA &  4928 & Pave & NA   & IR1 & Lvl & AllPub & ⋯ & 0 & NA & NA    & NA   &    0 & 10 & 2009 & WD  & Normal  & 143750\\\\\n",
       "\t 1433 &  30 & RL & 60 & 10800 & Pave & Grvl & Reg & Lvl & AllPub & ⋯ & 0 & NA & NA    & NA   &    0 &  8 & 2007 & WD  & Normal  &  64500\\\\\n",
       "\t 1434 &  60 & RL & 93 & 10261 & Pave & NA   & IR1 & Lvl & AllPub & ⋯ & 0 & NA & NA    & NA   &    0 &  5 & 2008 & WD  & Normal  & 186500\\\\\n",
       "\t 1435 &  20 & RL & 80 & 17400 & Pave & NA   & Reg & Low & AllPub & ⋯ & 0 & NA & NA    & NA   &    0 &  5 & 2006 & WD  & Normal  & 160000\\\\\n",
       "\t 1436 &  20 & RL & 80 &  8400 & Pave & NA   & Reg & Lvl & AllPub & ⋯ & 0 & NA & GdPrv & NA   &    0 &  7 & 2008 & COD & Abnorml & 174000\\\\\n",
       "\t 1437 &  20 & RL & 60 &  9000 & Pave & NA   & Reg & Lvl & AllPub & ⋯ & 0 & NA & GdWo  & NA   &    0 &  5 & 2007 & WD  & Normal  & 120500\\\\\n",
       "\t 1438 &  20 & RL & 96 & 12444 & Pave & NA   & Reg & Lvl & AllPub & ⋯ & 0 & NA & NA    & NA   &    0 & 11 & 2008 & New & Partial & 394617\\\\\n",
       "\t 1439 &  20 & RM & 90 &  7407 & Pave & NA   & Reg & Lvl & AllPub & ⋯ & 0 & NA & MnPrv & NA   &    0 &  4 & 2010 & WD  & Normal  & 149700\\\\\n",
       "\t 1440 &  60 & RL & 80 & 11584 & Pave & NA   & Reg & Lvl & AllPub & ⋯ & 0 & NA & NA    & NA   &    0 & 11 & 2007 & WD  & Normal  & 197000\\\\\n",
       "\t 1441 &  70 & RL & 79 & 11526 & Pave & NA   & IR1 & Bnk & AllPub & ⋯ & 0 & NA & NA    & NA   &    0 &  9 & 2008 & WD  & Normal  & 191000\\\\\n",
       "\t 1442 & 120 & RM & NA &  4426 & Pave & NA   & Reg & Lvl & AllPub & ⋯ & 0 & NA & NA    & NA   &    0 &  5 & 2008 & WD  & Normal  & 149300\\\\\n",
       "\t 1443 &  60 & FV & 85 & 11003 & Pave & NA   & Reg & Lvl & AllPub & ⋯ & 0 & NA & NA    & NA   &    0 &  4 & 2009 & WD  & Normal  & 310000\\\\\n",
       "\t 1444 &  30 & RL & NA &  8854 & Pave & NA   & Reg & Lvl & AllPub & ⋯ & 0 & NA & NA    & NA   &    0 &  5 & 2009 & WD  & Normal  & 121000\\\\\n",
       "\t 1445 &  20 & RL & 63 &  8500 & Pave & NA   & Reg & Lvl & AllPub & ⋯ & 0 & NA & NA    & NA   &    0 & 11 & 2007 & WD  & Normal  & 179600\\\\\n",
       "\t 1446 &  85 & RL & 70 &  8400 & Pave & NA   & Reg & Lvl & AllPub & ⋯ & 0 & NA & NA    & NA   &    0 &  5 & 2007 & WD  & Normal  & 129000\\\\\n",
       "\t 1447 &  20 & RL & NA & 26142 & Pave & NA   & IR1 & Lvl & AllPub & ⋯ & 0 & NA & NA    & NA   &    0 &  4 & 2010 & WD  & Normal  & 157900\\\\\n",
       "\t 1448 &  60 & RL & 80 & 10000 & Pave & NA   & Reg & Lvl & AllPub & ⋯ & 0 & NA & NA    & NA   &    0 & 12 & 2007 & WD  & Normal  & 240000\\\\\n",
       "\t 1449 &  50 & RL & 70 & 11767 & Pave & NA   & Reg & Lvl & AllPub & ⋯ & 0 & NA & GdWo  & NA   &    0 &  5 & 2007 & WD  & Normal  & 112000\\\\\n",
       "\t 1450 & 180 & RM & 21 &  1533 & Pave & NA   & Reg & Lvl & AllPub & ⋯ & 0 & NA & NA    & NA   &    0 &  8 & 2006 & WD  & Abnorml &  92000\\\\\n",
       "\t 1451 &  90 & RL & 60 &  9000 & Pave & NA   & Reg & Lvl & AllPub & ⋯ & 0 & NA & NA    & NA   &    0 &  9 & 2009 & WD  & Normal  & 136000\\\\\n",
       "\t 1452 &  20 & RL & 78 &  9262 & Pave & NA   & Reg & Lvl & AllPub & ⋯ & 0 & NA & NA    & NA   &    0 &  5 & 2009 & New & Partial & 287090\\\\\n",
       "\t 1453 & 180 & RM & 35 &  3675 & Pave & NA   & Reg & Lvl & AllPub & ⋯ & 0 & NA & NA    & NA   &    0 &  5 & 2006 & WD  & Normal  & 145000\\\\\n",
       "\t 1454 &  20 & RL & 90 & 17217 & Pave & NA   & Reg & Lvl & AllPub & ⋯ & 0 & NA & NA    & NA   &    0 &  7 & 2006 & WD  & Abnorml &  84500\\\\\n",
       "\t 1455 &  20 & FV & 62 &  7500 & Pave & Pave & Reg & Lvl & AllPub & ⋯ & 0 & NA & NA    & NA   &    0 & 10 & 2009 & WD  & Normal  & 185000\\\\\n",
       "\t 1456 &  60 & RL & 62 &  7917 & Pave & NA   & Reg & Lvl & AllPub & ⋯ & 0 & NA & NA    & NA   &    0 &  8 & 2007 & WD  & Normal  & 175000\\\\\n",
       "\t 1457 &  20 & RL & 85 & 13175 & Pave & NA   & Reg & Lvl & AllPub & ⋯ & 0 & NA & MnPrv & NA   &    0 &  2 & 2010 & WD  & Normal  & 210000\\\\\n",
       "\t 1458 &  70 & RL & 66 &  9042 & Pave & NA   & Reg & Lvl & AllPub & ⋯ & 0 & NA & GdPrv & Shed & 2500 &  5 & 2010 & WD  & Normal  & 266500\\\\\n",
       "\t 1459 &  20 & RL & 68 &  9717 & Pave & NA   & Reg & Lvl & AllPub & ⋯ & 0 & NA & NA    & NA   &    0 &  4 & 2010 & WD  & Normal  & 142125\\\\\n",
       "\t 1460 &  20 & RL & 75 &  9937 & Pave & NA   & Reg & Lvl & AllPub & ⋯ & 0 & NA & NA    & NA   &    0 &  6 & 2008 & WD  & Normal  & 147500\\\\\n",
       "\\end{tabular}\n"
      ],
      "text/markdown": [
       "\n",
       "A data.frame: 1460 × 81\n",
       "\n",
       "| id &lt;int&gt; | ms_sub_class &lt;int&gt; | ms_zoning &lt;chr&gt; | lot_frontage &lt;int&gt; | lot_area &lt;int&gt; | street &lt;chr&gt; | alley &lt;chr&gt; | lot_shape &lt;chr&gt; | land_contour &lt;chr&gt; | utilities &lt;chr&gt; | ⋯ ⋯ | pool_area &lt;int&gt; | pool_qc &lt;chr&gt; | fence &lt;chr&gt; | misc_feature &lt;chr&gt; | misc_val &lt;int&gt; | mo_sold &lt;int&gt; | yr_sold &lt;int&gt; | sale_type &lt;chr&gt; | sale_condition &lt;chr&gt; | sale_price &lt;int&gt; |\n",
       "|---|---|---|---|---|---|---|---|---|---|---|---|---|---|---|---|---|---|---|---|---|\n",
       "|  1 |  60 | RL |  65 |  8450 | Pave | NA   | Reg | Lvl | AllPub | ⋯ | 0 | NA | NA    | NA   |   0 |  2 | 2008 | WD  | Normal  | 208500 |\n",
       "|  2 |  20 | RL |  80 |  9600 | Pave | NA   | Reg | Lvl | AllPub | ⋯ | 0 | NA | NA    | NA   |   0 |  5 | 2007 | WD  | Normal  | 181500 |\n",
       "|  3 |  60 | RL |  68 | 11250 | Pave | NA   | IR1 | Lvl | AllPub | ⋯ | 0 | NA | NA    | NA   |   0 |  9 | 2008 | WD  | Normal  | 223500 |\n",
       "|  4 |  70 | RL |  60 |  9550 | Pave | NA   | IR1 | Lvl | AllPub | ⋯ | 0 | NA | NA    | NA   |   0 |  2 | 2006 | WD  | Abnorml | 140000 |\n",
       "|  5 |  60 | RL |  84 | 14260 | Pave | NA   | IR1 | Lvl | AllPub | ⋯ | 0 | NA | NA    | NA   |   0 | 12 | 2008 | WD  | Normal  | 250000 |\n",
       "|  6 |  50 | RL |  85 | 14115 | Pave | NA   | IR1 | Lvl | AllPub | ⋯ | 0 | NA | MnPrv | Shed | 700 | 10 | 2009 | WD  | Normal  | 143000 |\n",
       "|  7 |  20 | RL |  75 | 10084 | Pave | NA   | Reg | Lvl | AllPub | ⋯ | 0 | NA | NA    | NA   |   0 |  8 | 2007 | WD  | Normal  | 307000 |\n",
       "|  8 |  60 | RL |  NA | 10382 | Pave | NA   | IR1 | Lvl | AllPub | ⋯ | 0 | NA | NA    | Shed | 350 | 11 | 2009 | WD  | Normal  | 200000 |\n",
       "|  9 |  50 | RM |  51 |  6120 | Pave | NA   | Reg | Lvl | AllPub | ⋯ | 0 | NA | NA    | NA   |   0 |  4 | 2008 | WD  | Abnorml | 129900 |\n",
       "| 10 | 190 | RL |  50 |  7420 | Pave | NA   | Reg | Lvl | AllPub | ⋯ | 0 | NA | NA    | NA   |   0 |  1 | 2008 | WD  | Normal  | 118000 |\n",
       "| 11 |  20 | RL |  70 | 11200 | Pave | NA   | Reg | Lvl | AllPub | ⋯ | 0 | NA | NA    | NA   |   0 |  2 | 2008 | WD  | Normal  | 129500 |\n",
       "| 12 |  60 | RL |  85 | 11924 | Pave | NA   | IR1 | Lvl | AllPub | ⋯ | 0 | NA | NA    | NA   |   0 |  7 | 2006 | New | Partial | 345000 |\n",
       "| 13 |  20 | RL |  NA | 12968 | Pave | NA   | IR2 | Lvl | AllPub | ⋯ | 0 | NA | NA    | NA   |   0 |  9 | 2008 | WD  | Normal  | 144000 |\n",
       "| 14 |  20 | RL |  91 | 10652 | Pave | NA   | IR1 | Lvl | AllPub | ⋯ | 0 | NA | NA    | NA   |   0 |  8 | 2007 | New | Partial | 279500 |\n",
       "| 15 |  20 | RL |  NA | 10920 | Pave | NA   | IR1 | Lvl | AllPub | ⋯ | 0 | NA | GdWo  | NA   |   0 |  5 | 2008 | WD  | Normal  | 157000 |\n",
       "| 16 |  45 | RM |  51 |  6120 | Pave | NA   | Reg | Lvl | AllPub | ⋯ | 0 | NA | GdPrv | NA   |   0 |  7 | 2007 | WD  | Normal  | 132000 |\n",
       "| 17 |  20 | RL |  NA | 11241 | Pave | NA   | IR1 | Lvl | AllPub | ⋯ | 0 | NA | NA    | Shed | 700 |  3 | 2010 | WD  | Normal  | 149000 |\n",
       "| 18 |  90 | RL |  72 | 10791 | Pave | NA   | Reg | Lvl | AllPub | ⋯ | 0 | NA | NA    | Shed | 500 | 10 | 2006 | WD  | Normal  |  90000 |\n",
       "| 19 |  20 | RL |  66 | 13695 | Pave | NA   | Reg | Lvl | AllPub | ⋯ | 0 | NA | NA    | NA   |   0 |  6 | 2008 | WD  | Normal  | 159000 |\n",
       "| 20 |  20 | RL |  70 |  7560 | Pave | NA   | Reg | Lvl | AllPub | ⋯ | 0 | NA | MnPrv | NA   |   0 |  5 | 2009 | COD | Abnorml | 139000 |\n",
       "| 21 |  60 | RL | 101 | 14215 | Pave | NA   | IR1 | Lvl | AllPub | ⋯ | 0 | NA | NA    | NA   |   0 | 11 | 2006 | New | Partial | 325300 |\n",
       "| 22 |  45 | RM |  57 |  7449 | Pave | Grvl | Reg | Bnk | AllPub | ⋯ | 0 | NA | GdPrv | NA   |   0 |  6 | 2007 | WD  | Normal  | 139400 |\n",
       "| 23 |  20 | RL |  75 |  9742 | Pave | NA   | Reg | Lvl | AllPub | ⋯ | 0 | NA | NA    | NA   |   0 |  9 | 2008 | WD  | Normal  | 230000 |\n",
       "| 24 | 120 | RM |  44 |  4224 | Pave | NA   | Reg | Lvl | AllPub | ⋯ | 0 | NA | NA    | NA   |   0 |  6 | 2007 | WD  | Normal  | 129900 |\n",
       "| 25 |  20 | RL |  NA |  8246 | Pave | NA   | IR1 | Lvl | AllPub | ⋯ | 0 | NA | MnPrv | NA   |   0 |  5 | 2010 | WD  | Normal  | 154000 |\n",
       "| 26 |  20 | RL | 110 | 14230 | Pave | NA   | Reg | Lvl | AllPub | ⋯ | 0 | NA | NA    | NA   |   0 |  7 | 2009 | WD  | Normal  | 256300 |\n",
       "| 27 |  20 | RL |  60 |  7200 | Pave | NA   | Reg | Lvl | AllPub | ⋯ | 0 | NA | NA    | NA   |   0 |  5 | 2010 | WD  | Normal  | 134800 |\n",
       "| 28 |  20 | RL |  98 | 11478 | Pave | NA   | Reg | Lvl | AllPub | ⋯ | 0 | NA | NA    | NA   |   0 |  5 | 2010 | WD  | Normal  | 306000 |\n",
       "| 29 |  20 | RL |  47 | 16321 | Pave | NA   | IR1 | Lvl | AllPub | ⋯ | 0 | NA | NA    | NA   |   0 | 12 | 2006 | WD  | Normal  | 207500 |\n",
       "| 30 |  30 | RM |  60 |  6324 | Pave | NA   | IR1 | Lvl | AllPub | ⋯ | 0 | NA | NA    | NA   |   0 |  5 | 2008 | WD  | Normal  |  68500 |\n",
       "| ⋮ | ⋮ | ⋮ | ⋮ | ⋮ | ⋮ | ⋮ | ⋮ | ⋮ | ⋮ | ⋱ | ⋮ | ⋮ | ⋮ | ⋮ | ⋮ | ⋮ | ⋮ | ⋮ | ⋮ | ⋮ |\n",
       "| 1431 |  60 | RL | 60 | 21930 | Pave | NA   | IR3 | Lvl | AllPub | ⋯ | 0 | NA | NA    | NA   |    0 |  7 | 2006 | WD  | Normal  | 192140 |\n",
       "| 1432 | 120 | RL | NA |  4928 | Pave | NA   | IR1 | Lvl | AllPub | ⋯ | 0 | NA | NA    | NA   |    0 | 10 | 2009 | WD  | Normal  | 143750 |\n",
       "| 1433 |  30 | RL | 60 | 10800 | Pave | Grvl | Reg | Lvl | AllPub | ⋯ | 0 | NA | NA    | NA   |    0 |  8 | 2007 | WD  | Normal  |  64500 |\n",
       "| 1434 |  60 | RL | 93 | 10261 | Pave | NA   | IR1 | Lvl | AllPub | ⋯ | 0 | NA | NA    | NA   |    0 |  5 | 2008 | WD  | Normal  | 186500 |\n",
       "| 1435 |  20 | RL | 80 | 17400 | Pave | NA   | Reg | Low | AllPub | ⋯ | 0 | NA | NA    | NA   |    0 |  5 | 2006 | WD  | Normal  | 160000 |\n",
       "| 1436 |  20 | RL | 80 |  8400 | Pave | NA   | Reg | Lvl | AllPub | ⋯ | 0 | NA | GdPrv | NA   |    0 |  7 | 2008 | COD | Abnorml | 174000 |\n",
       "| 1437 |  20 | RL | 60 |  9000 | Pave | NA   | Reg | Lvl | AllPub | ⋯ | 0 | NA | GdWo  | NA   |    0 |  5 | 2007 | WD  | Normal  | 120500 |\n",
       "| 1438 |  20 | RL | 96 | 12444 | Pave | NA   | Reg | Lvl | AllPub | ⋯ | 0 | NA | NA    | NA   |    0 | 11 | 2008 | New | Partial | 394617 |\n",
       "| 1439 |  20 | RM | 90 |  7407 | Pave | NA   | Reg | Lvl | AllPub | ⋯ | 0 | NA | MnPrv | NA   |    0 |  4 | 2010 | WD  | Normal  | 149700 |\n",
       "| 1440 |  60 | RL | 80 | 11584 | Pave | NA   | Reg | Lvl | AllPub | ⋯ | 0 | NA | NA    | NA   |    0 | 11 | 2007 | WD  | Normal  | 197000 |\n",
       "| 1441 |  70 | RL | 79 | 11526 | Pave | NA   | IR1 | Bnk | AllPub | ⋯ | 0 | NA | NA    | NA   |    0 |  9 | 2008 | WD  | Normal  | 191000 |\n",
       "| 1442 | 120 | RM | NA |  4426 | Pave | NA   | Reg | Lvl | AllPub | ⋯ | 0 | NA | NA    | NA   |    0 |  5 | 2008 | WD  | Normal  | 149300 |\n",
       "| 1443 |  60 | FV | 85 | 11003 | Pave | NA   | Reg | Lvl | AllPub | ⋯ | 0 | NA | NA    | NA   |    0 |  4 | 2009 | WD  | Normal  | 310000 |\n",
       "| 1444 |  30 | RL | NA |  8854 | Pave | NA   | Reg | Lvl | AllPub | ⋯ | 0 | NA | NA    | NA   |    0 |  5 | 2009 | WD  | Normal  | 121000 |\n",
       "| 1445 |  20 | RL | 63 |  8500 | Pave | NA   | Reg | Lvl | AllPub | ⋯ | 0 | NA | NA    | NA   |    0 | 11 | 2007 | WD  | Normal  | 179600 |\n",
       "| 1446 |  85 | RL | 70 |  8400 | Pave | NA   | Reg | Lvl | AllPub | ⋯ | 0 | NA | NA    | NA   |    0 |  5 | 2007 | WD  | Normal  | 129000 |\n",
       "| 1447 |  20 | RL | NA | 26142 | Pave | NA   | IR1 | Lvl | AllPub | ⋯ | 0 | NA | NA    | NA   |    0 |  4 | 2010 | WD  | Normal  | 157900 |\n",
       "| 1448 |  60 | RL | 80 | 10000 | Pave | NA   | Reg | Lvl | AllPub | ⋯ | 0 | NA | NA    | NA   |    0 | 12 | 2007 | WD  | Normal  | 240000 |\n",
       "| 1449 |  50 | RL | 70 | 11767 | Pave | NA   | Reg | Lvl | AllPub | ⋯ | 0 | NA | GdWo  | NA   |    0 |  5 | 2007 | WD  | Normal  | 112000 |\n",
       "| 1450 | 180 | RM | 21 |  1533 | Pave | NA   | Reg | Lvl | AllPub | ⋯ | 0 | NA | NA    | NA   |    0 |  8 | 2006 | WD  | Abnorml |  92000 |\n",
       "| 1451 |  90 | RL | 60 |  9000 | Pave | NA   | Reg | Lvl | AllPub | ⋯ | 0 | NA | NA    | NA   |    0 |  9 | 2009 | WD  | Normal  | 136000 |\n",
       "| 1452 |  20 | RL | 78 |  9262 | Pave | NA   | Reg | Lvl | AllPub | ⋯ | 0 | NA | NA    | NA   |    0 |  5 | 2009 | New | Partial | 287090 |\n",
       "| 1453 | 180 | RM | 35 |  3675 | Pave | NA   | Reg | Lvl | AllPub | ⋯ | 0 | NA | NA    | NA   |    0 |  5 | 2006 | WD  | Normal  | 145000 |\n",
       "| 1454 |  20 | RL | 90 | 17217 | Pave | NA   | Reg | Lvl | AllPub | ⋯ | 0 | NA | NA    | NA   |    0 |  7 | 2006 | WD  | Abnorml |  84500 |\n",
       "| 1455 |  20 | FV | 62 |  7500 | Pave | Pave | Reg | Lvl | AllPub | ⋯ | 0 | NA | NA    | NA   |    0 | 10 | 2009 | WD  | Normal  | 185000 |\n",
       "| 1456 |  60 | RL | 62 |  7917 | Pave | NA   | Reg | Lvl | AllPub | ⋯ | 0 | NA | NA    | NA   |    0 |  8 | 2007 | WD  | Normal  | 175000 |\n",
       "| 1457 |  20 | RL | 85 | 13175 | Pave | NA   | Reg | Lvl | AllPub | ⋯ | 0 | NA | MnPrv | NA   |    0 |  2 | 2010 | WD  | Normal  | 210000 |\n",
       "| 1458 |  70 | RL | 66 |  9042 | Pave | NA   | Reg | Lvl | AllPub | ⋯ | 0 | NA | GdPrv | Shed | 2500 |  5 | 2010 | WD  | Normal  | 266500 |\n",
       "| 1459 |  20 | RL | 68 |  9717 | Pave | NA   | Reg | Lvl | AllPub | ⋯ | 0 | NA | NA    | NA   |    0 |  4 | 2010 | WD  | Normal  | 142125 |\n",
       "| 1460 |  20 | RL | 75 |  9937 | Pave | NA   | Reg | Lvl | AllPub | ⋯ | 0 | NA | NA    | NA   |    0 |  6 | 2008 | WD  | Normal  | 147500 |\n",
       "\n"
      ],
      "text/plain": [
       "     id   ms_sub_class ms_zoning lot_frontage lot_area street alley lot_shape\n",
       "1     1    60          RL         65           8450    Pave   NA    Reg      \n",
       "2     2    20          RL         80           9600    Pave   NA    Reg      \n",
       "3     3    60          RL         68          11250    Pave   NA    IR1      \n",
       "4     4    70          RL         60           9550    Pave   NA    IR1      \n",
       "5     5    60          RL         84          14260    Pave   NA    IR1      \n",
       "6     6    50          RL         85          14115    Pave   NA    IR1      \n",
       "7     7    20          RL         75          10084    Pave   NA    Reg      \n",
       "8     8    60          RL         NA          10382    Pave   NA    IR1      \n",
       "9     9    50          RM         51           6120    Pave   NA    Reg      \n",
       "10   10   190          RL         50           7420    Pave   NA    Reg      \n",
       "11   11    20          RL         70          11200    Pave   NA    Reg      \n",
       "12   12    60          RL         85          11924    Pave   NA    IR1      \n",
       "13   13    20          RL         NA          12968    Pave   NA    IR2      \n",
       "14   14    20          RL         91          10652    Pave   NA    IR1      \n",
       "15   15    20          RL         NA          10920    Pave   NA    IR1      \n",
       "16   16    45          RM         51           6120    Pave   NA    Reg      \n",
       "17   17    20          RL         NA          11241    Pave   NA    IR1      \n",
       "18   18    90          RL         72          10791    Pave   NA    Reg      \n",
       "19   19    20          RL         66          13695    Pave   NA    Reg      \n",
       "20   20    20          RL         70           7560    Pave   NA    Reg      \n",
       "21   21    60          RL        101          14215    Pave   NA    IR1      \n",
       "22   22    45          RM         57           7449    Pave   Grvl  Reg      \n",
       "23   23    20          RL         75           9742    Pave   NA    Reg      \n",
       "24   24   120          RM         44           4224    Pave   NA    Reg      \n",
       "25   25    20          RL         NA           8246    Pave   NA    IR1      \n",
       "26   26    20          RL        110          14230    Pave   NA    Reg      \n",
       "27   27    20          RL         60           7200    Pave   NA    Reg      \n",
       "28   28    20          RL         98          11478    Pave   NA    Reg      \n",
       "29   29    20          RL         47          16321    Pave   NA    IR1      \n",
       "30   30    30          RM         60           6324    Pave   NA    IR1      \n",
       "⋮    ⋮    ⋮            ⋮         ⋮            ⋮        ⋮      ⋮     ⋮        \n",
       "1431 1431  60          RL        60           21930    Pave   NA    IR3      \n",
       "1432 1432 120          RL        NA            4928    Pave   NA    IR1      \n",
       "1433 1433  30          RL        60           10800    Pave   Grvl  Reg      \n",
       "1434 1434  60          RL        93           10261    Pave   NA    IR1      \n",
       "1435 1435  20          RL        80           17400    Pave   NA    Reg      \n",
       "1436 1436  20          RL        80            8400    Pave   NA    Reg      \n",
       "1437 1437  20          RL        60            9000    Pave   NA    Reg      \n",
       "1438 1438  20          RL        96           12444    Pave   NA    Reg      \n",
       "1439 1439  20          RM        90            7407    Pave   NA    Reg      \n",
       "1440 1440  60          RL        80           11584    Pave   NA    Reg      \n",
       "1441 1441  70          RL        79           11526    Pave   NA    IR1      \n",
       "1442 1442 120          RM        NA            4426    Pave   NA    Reg      \n",
       "1443 1443  60          FV        85           11003    Pave   NA    Reg      \n",
       "1444 1444  30          RL        NA            8854    Pave   NA    Reg      \n",
       "1445 1445  20          RL        63            8500    Pave   NA    Reg      \n",
       "1446 1446  85          RL        70            8400    Pave   NA    Reg      \n",
       "1447 1447  20          RL        NA           26142    Pave   NA    IR1      \n",
       "1448 1448  60          RL        80           10000    Pave   NA    Reg      \n",
       "1449 1449  50          RL        70           11767    Pave   NA    Reg      \n",
       "1450 1450 180          RM        21            1533    Pave   NA    Reg      \n",
       "1451 1451  90          RL        60            9000    Pave   NA    Reg      \n",
       "1452 1452  20          RL        78            9262    Pave   NA    Reg      \n",
       "1453 1453 180          RM        35            3675    Pave   NA    Reg      \n",
       "1454 1454  20          RL        90           17217    Pave   NA    Reg      \n",
       "1455 1455  20          FV        62            7500    Pave   Pave  Reg      \n",
       "1456 1456  60          RL        62            7917    Pave   NA    Reg      \n",
       "1457 1457  20          RL        85           13175    Pave   NA    Reg      \n",
       "1458 1458  70          RL        66            9042    Pave   NA    Reg      \n",
       "1459 1459  20          RL        68            9717    Pave   NA    Reg      \n",
       "1460 1460  20          RL        75            9937    Pave   NA    Reg      \n",
       "     land_contour utilities ⋯ pool_area pool_qc fence misc_feature misc_val\n",
       "1    Lvl          AllPub    ⋯ 0         NA      NA    NA             0     \n",
       "2    Lvl          AllPub    ⋯ 0         NA      NA    NA             0     \n",
       "3    Lvl          AllPub    ⋯ 0         NA      NA    NA             0     \n",
       "4    Lvl          AllPub    ⋯ 0         NA      NA    NA             0     \n",
       "5    Lvl          AllPub    ⋯ 0         NA      NA    NA             0     \n",
       "6    Lvl          AllPub    ⋯ 0         NA      MnPrv Shed         700     \n",
       "7    Lvl          AllPub    ⋯ 0         NA      NA    NA             0     \n",
       "8    Lvl          AllPub    ⋯ 0         NA      NA    Shed         350     \n",
       "9    Lvl          AllPub    ⋯ 0         NA      NA    NA             0     \n",
       "10   Lvl          AllPub    ⋯ 0         NA      NA    NA             0     \n",
       "11   Lvl          AllPub    ⋯ 0         NA      NA    NA             0     \n",
       "12   Lvl          AllPub    ⋯ 0         NA      NA    NA             0     \n",
       "13   Lvl          AllPub    ⋯ 0         NA      NA    NA             0     \n",
       "14   Lvl          AllPub    ⋯ 0         NA      NA    NA             0     \n",
       "15   Lvl          AllPub    ⋯ 0         NA      GdWo  NA             0     \n",
       "16   Lvl          AllPub    ⋯ 0         NA      GdPrv NA             0     \n",
       "17   Lvl          AllPub    ⋯ 0         NA      NA    Shed         700     \n",
       "18   Lvl          AllPub    ⋯ 0         NA      NA    Shed         500     \n",
       "19   Lvl          AllPub    ⋯ 0         NA      NA    NA             0     \n",
       "20   Lvl          AllPub    ⋯ 0         NA      MnPrv NA             0     \n",
       "21   Lvl          AllPub    ⋯ 0         NA      NA    NA             0     \n",
       "22   Bnk          AllPub    ⋯ 0         NA      GdPrv NA             0     \n",
       "23   Lvl          AllPub    ⋯ 0         NA      NA    NA             0     \n",
       "24   Lvl          AllPub    ⋯ 0         NA      NA    NA             0     \n",
       "25   Lvl          AllPub    ⋯ 0         NA      MnPrv NA             0     \n",
       "26   Lvl          AllPub    ⋯ 0         NA      NA    NA             0     \n",
       "27   Lvl          AllPub    ⋯ 0         NA      NA    NA             0     \n",
       "28   Lvl          AllPub    ⋯ 0         NA      NA    NA             0     \n",
       "29   Lvl          AllPub    ⋯ 0         NA      NA    NA             0     \n",
       "30   Lvl          AllPub    ⋯ 0         NA      NA    NA             0     \n",
       "⋮    ⋮            ⋮         ⋱ ⋮         ⋮       ⋮     ⋮            ⋮       \n",
       "1431 Lvl          AllPub    ⋯ 0         NA      NA    NA              0    \n",
       "1432 Lvl          AllPub    ⋯ 0         NA      NA    NA              0    \n",
       "1433 Lvl          AllPub    ⋯ 0         NA      NA    NA              0    \n",
       "1434 Lvl          AllPub    ⋯ 0         NA      NA    NA              0    \n",
       "1435 Low          AllPub    ⋯ 0         NA      NA    NA              0    \n",
       "1436 Lvl          AllPub    ⋯ 0         NA      GdPrv NA              0    \n",
       "1437 Lvl          AllPub    ⋯ 0         NA      GdWo  NA              0    \n",
       "1438 Lvl          AllPub    ⋯ 0         NA      NA    NA              0    \n",
       "1439 Lvl          AllPub    ⋯ 0         NA      MnPrv NA              0    \n",
       "1440 Lvl          AllPub    ⋯ 0         NA      NA    NA              0    \n",
       "1441 Bnk          AllPub    ⋯ 0         NA      NA    NA              0    \n",
       "1442 Lvl          AllPub    ⋯ 0         NA      NA    NA              0    \n",
       "1443 Lvl          AllPub    ⋯ 0         NA      NA    NA              0    \n",
       "1444 Lvl          AllPub    ⋯ 0         NA      NA    NA              0    \n",
       "1445 Lvl          AllPub    ⋯ 0         NA      NA    NA              0    \n",
       "1446 Lvl          AllPub    ⋯ 0         NA      NA    NA              0    \n",
       "1447 Lvl          AllPub    ⋯ 0         NA      NA    NA              0    \n",
       "1448 Lvl          AllPub    ⋯ 0         NA      NA    NA              0    \n",
       "1449 Lvl          AllPub    ⋯ 0         NA      GdWo  NA              0    \n",
       "1450 Lvl          AllPub    ⋯ 0         NA      NA    NA              0    \n",
       "1451 Lvl          AllPub    ⋯ 0         NA      NA    NA              0    \n",
       "1452 Lvl          AllPub    ⋯ 0         NA      NA    NA              0    \n",
       "1453 Lvl          AllPub    ⋯ 0         NA      NA    NA              0    \n",
       "1454 Lvl          AllPub    ⋯ 0         NA      NA    NA              0    \n",
       "1455 Lvl          AllPub    ⋯ 0         NA      NA    NA              0    \n",
       "1456 Lvl          AllPub    ⋯ 0         NA      NA    NA              0    \n",
       "1457 Lvl          AllPub    ⋯ 0         NA      MnPrv NA              0    \n",
       "1458 Lvl          AllPub    ⋯ 0         NA      GdPrv Shed         2500    \n",
       "1459 Lvl          AllPub    ⋯ 0         NA      NA    NA              0    \n",
       "1460 Lvl          AllPub    ⋯ 0         NA      NA    NA              0    \n",
       "     mo_sold yr_sold sale_type sale_condition sale_price\n",
       "1     2      2008    WD        Normal         208500    \n",
       "2     5      2007    WD        Normal         181500    \n",
       "3     9      2008    WD        Normal         223500    \n",
       "4     2      2006    WD        Abnorml        140000    \n",
       "5    12      2008    WD        Normal         250000    \n",
       "6    10      2009    WD        Normal         143000    \n",
       "7     8      2007    WD        Normal         307000    \n",
       "8    11      2009    WD        Normal         200000    \n",
       "9     4      2008    WD        Abnorml        129900    \n",
       "10    1      2008    WD        Normal         118000    \n",
       "11    2      2008    WD        Normal         129500    \n",
       "12    7      2006    New       Partial        345000    \n",
       "13    9      2008    WD        Normal         144000    \n",
       "14    8      2007    New       Partial        279500    \n",
       "15    5      2008    WD        Normal         157000    \n",
       "16    7      2007    WD        Normal         132000    \n",
       "17    3      2010    WD        Normal         149000    \n",
       "18   10      2006    WD        Normal          90000    \n",
       "19    6      2008    WD        Normal         159000    \n",
       "20    5      2009    COD       Abnorml        139000    \n",
       "21   11      2006    New       Partial        325300    \n",
       "22    6      2007    WD        Normal         139400    \n",
       "23    9      2008    WD        Normal         230000    \n",
       "24    6      2007    WD        Normal         129900    \n",
       "25    5      2010    WD        Normal         154000    \n",
       "26    7      2009    WD        Normal         256300    \n",
       "27    5      2010    WD        Normal         134800    \n",
       "28    5      2010    WD        Normal         306000    \n",
       "29   12      2006    WD        Normal         207500    \n",
       "30    5      2008    WD        Normal          68500    \n",
       "⋮    ⋮       ⋮       ⋮         ⋮              ⋮         \n",
       "1431  7      2006    WD        Normal         192140    \n",
       "1432 10      2009    WD        Normal         143750    \n",
       "1433  8      2007    WD        Normal          64500    \n",
       "1434  5      2008    WD        Normal         186500    \n",
       "1435  5      2006    WD        Normal         160000    \n",
       "1436  7      2008    COD       Abnorml        174000    \n",
       "1437  5      2007    WD        Normal         120500    \n",
       "1438 11      2008    New       Partial        394617    \n",
       "1439  4      2010    WD        Normal         149700    \n",
       "1440 11      2007    WD        Normal         197000    \n",
       "1441  9      2008    WD        Normal         191000    \n",
       "1442  5      2008    WD        Normal         149300    \n",
       "1443  4      2009    WD        Normal         310000    \n",
       "1444  5      2009    WD        Normal         121000    \n",
       "1445 11      2007    WD        Normal         179600    \n",
       "1446  5      2007    WD        Normal         129000    \n",
       "1447  4      2010    WD        Normal         157900    \n",
       "1448 12      2007    WD        Normal         240000    \n",
       "1449  5      2007    WD        Normal         112000    \n",
       "1450  8      2006    WD        Abnorml         92000    \n",
       "1451  9      2009    WD        Normal         136000    \n",
       "1452  5      2009    New       Partial        287090    \n",
       "1453  5      2006    WD        Normal         145000    \n",
       "1454  7      2006    WD        Abnorml         84500    \n",
       "1455 10      2009    WD        Normal         185000    \n",
       "1456  8      2007    WD        Normal         175000    \n",
       "1457  2      2010    WD        Normal         210000    \n",
       "1458  5      2010    WD        Normal         266500    \n",
       "1459  4      2010    WD        Normal         142125    \n",
       "1460  6      2008    WD        Normal         147500    "
      ]
     },
     "metadata": {},
     "output_type": "display_data"
    }
   ],
   "source": [
    "clean_names(a)"
   ]
  },
  {
   "cell_type": "code",
   "execution_count": 55,
   "metadata": {
    "gather": {
     "logged": 1661621741742
    },
    "jupyter": {
     "outputs_hidden": false,
     "source_hidden": false
    },
    "nteract": {
     "transient": {
      "deleting": false
     }
    }
   },
   "outputs": [
    {
     "ename": "ERROR",
     "evalue": "Error in library(penguins): there is no package called ‘penguins’\n",
     "output_type": "error",
     "traceback": [
      "Error in library(penguins): there is no package called ‘penguins’\nTraceback:\n",
      "1. library(penguins)"
     ]
    }
   ],
   "source": []
  }
 ],
 "metadata": {
  "kernel_info": {
   "name": "ir"
  },
  "kernelspec": {
   "display_name": "R",
   "language": "R",
   "name": "ir"
  },
  "language_info": {
   "codemirror_mode": "r",
   "file_extension": ".r",
   "mimetype": "text/x-r-source",
   "name": "R",
   "pygments_lexer": "r",
   "version": "4.2.1"
  },
  "microsoft": {
   "host": {
    "AzureML": {
     "notebookHasBeenCompleted": true
    }
   }
  },
  "nteract": {
   "version": "nteract-front-end@1.0.0"
  }
 },
 "nbformat": 4,
 "nbformat_minor": 2
}
